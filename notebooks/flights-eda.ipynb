{
 "cells": [
  {
   "cell_type": "code",
   "execution_count": 594,
   "metadata": {
    "collapsed": true
   },
   "outputs": [],
   "source": [
    "import requests\n",
    "import numpy as np\n",
    "import pandas as pd\n",
    "import psycopg2\n",
    "from bs4 import BeautifulSoup\n",
    "from datetime import datetime, date, time\n",
    "import string\n",
    "import time\n",
    "from dateutil import parser\n",
    "import geopy.distance\n",
    "import re\n",
    "import pytz    \n",
    "import tzlocal \n",
    "import matplotlib.pyplot as plt\n",
    "import calendar\n",
    "import matplotlib\n",
    "import re\n",
    "pd.options.display.max_columns=100\n",
    "%matplotlib inline\n",
    "\n",
    "import warnings\n",
    "warnings.filterwarnings('ignore')\n"
   ]
  },
  {
   "cell_type": "markdown",
   "metadata": {},
   "source": [
    "<input type=\"hidden\" id=\"captchaStr\" name=\"captchaStr\" value=\"\" />\n",
    "<input type=\"hidden\" id=\"type\" name=\"type\" value=\"igc\" />\n",
    "\n",
    "<input type=\"hidden\" id=\"file\" name=\"file\" value=\"\" />"
   ]
  },
  {
   "cell_type": "markdown",
   "metadata": {},
   "source": [
    "### HOW TO SCRAPE A LOG FILE"
   ]
  },
  {
   "cell_type": "code",
   "execution_count": null,
   "metadata": {
    "collapsed": true
   },
   "outputs": [],
   "source": [
    "data = {\"flightID\": 714360, \"file\":\"\", \"type\":\"igc\", \"captchaStr\":\"\"}"
   ]
  },
  {
   "cell_type": "code",
   "execution_count": null,
   "metadata": {},
   "outputs": [],
   "source": [
    "response = requests.post('http://www.paraglidingforum.com/leonardo/download_igc.php', data = data)\n",
    "response.status_code"
   ]
  },
  {
   "cell_type": "code",
   "execution_count": null,
   "metadata": {},
   "outputs": [],
   "source": [
    "response.text"
   ]
  },
  {
   "cell_type": "code",
   "execution_count": null,
   "metadata": {
    "collapsed": true
   },
   "outputs": [],
   "source": []
  },
  {
   "cell_type": "markdown",
   "metadata": {},
   "source": [
    "### TRYING TO GET PILOT NAME"
   ]
  },
  {
   "cell_type": "code",
   "execution_count": 472,
   "metadata": {
    "collapsed": true
   },
   "outputs": [],
   "source": [
    "def strip_name(string):\n",
    "    step1 = string.split('title')[-1]\n",
    "    step2 = re.findall('>(\\D[^<][^\\n]{,30})<',step1)\n",
    "    return step2"
   ]
  },
  {
   "cell_type": "code",
   "execution_count": 484,
   "metadata": {},
   "outputs": [
    {
     "name": "stdout",
     "output_type": "stream",
     "text": [
      "page 1 done\n",
      "page 2 done\n",
      "page 3 done\n",
      "page 4 done\n",
      "page 5 done\n",
      "page 6 done\n",
      "page 7 done\n",
      "page 8 done\n",
      "page 9 done\n",
      "page 10 done\n",
      "page 11 done\n",
      "page 12 done\n",
      "page 13 done\n",
      "page 14 done\n",
      "page 15 done\n",
      "page 16 done\n",
      "page 17 done\n",
      "page 18 done\n",
      "page 19 done\n",
      "page 20 done\n",
      "page 21 done\n",
      "page 22 done\n",
      "page 23 done\n",
      "page 24 done\n",
      "page 25 done\n",
      "page 26 done\n",
      "page 27 done\n",
      "page 28 done\n",
      "page 29 done\n",
      "page 30 done\n",
      "page 31 done\n",
      "page 32 done\n",
      "page 33 done\n",
      "page 34 done\n",
      "page 35 done\n",
      "page 36 done\n",
      "page 37 done\n",
      "page 38 done\n",
      "page 39 done\n",
      "page 40 done\n",
      "page 41 done\n",
      "page 42 done\n",
      "page 43 done\n",
      "page 44 done\n",
      "page 45 done\n",
      "page 46 done\n",
      "page 47 done\n",
      "page 48 done\n",
      "page 49 done\n",
      "page 50 done\n",
      "page 51 done\n",
      "page 52 done\n",
      "page 53 done\n",
      "page 54 done\n",
      "page 55 done\n",
      "page 56 done\n",
      "page 57 done\n",
      "page 58 done\n",
      "page 59 done\n",
      "page 60 done\n",
      "page 61 done\n",
      "page 62 done\n",
      "page 63 done\n",
      "page 64 done\n",
      "page 65 done\n",
      "page 66 done\n",
      "page 67 done\n",
      "page 68 done\n",
      "page 69 done\n",
      "page 70 done\n",
      "page 71 done\n",
      "page 72 done\n",
      "page 73 done\n",
      "page 74 done\n",
      "page 75 done\n",
      "page 76 done\n",
      "page 77 done\n",
      "page 78 done\n",
      "page 79 done\n",
      "page 80 done\n",
      "page 81 done\n",
      "page 82 done\n",
      "page 83 done\n",
      "page 84 done\n",
      "page 85 done\n",
      "page 86 done\n",
      "page 87 done\n",
      "page 88 done\n",
      "page 89 done\n",
      "page 90 done\n",
      "page 91 done\n",
      "page 92 done\n",
      "page 93 done\n",
      "page 94 done\n",
      "page 95 done\n",
      "page 96 done\n",
      "page 97 done\n",
      "page 98 done\n",
      "page 99 done\n",
      "page 100 done\n",
      "page 101 done\n",
      "page 102 done\n",
      "page 103 done\n",
      "page 104 done\n",
      "page 105 done\n",
      "page 106 done\n",
      "page 107 done\n",
      "page 108 done\n",
      "page 109 done\n"
     ]
    }
   ],
   "source": [
    "pilot_list = {}\n",
    "\n",
    "for page in range(1,110):\n",
    "\n",
    "    headers = {\n",
    "        'User-Agent':'Mozilla/5.0 (Macintosh; Intel Mac OS X 10_13_1) AppleWebKit/537.36 (KHTML, like Gecko) Chrome/63.0.3239.132 Safari/537.36',\n",
    "        'Referer': 'http://www.paraglidingforum.com/leonardo/page/filter',\n",
    "        'page_num': str(page)}\n",
    "    response = requests.get('http://www.paraglidingforum.com/leonardo/tracks/world/alltimes/brand:all,cat:0,class:all,xctype:all,club:all,pilot:0_0,takeoff:all&fltr=428929_42145.&page_num={}'.format(page),headers = headers)\n",
    "    soup = BeautifulSoup(response.text, \"html.parser\")\n",
    "\n",
    "    flight_numbers = [link[\"href\"].split('/')[3] for link in soup.find_all(\"a\", {\"class\":\"flightLink\"})]\n",
    "    list_of_classes = [str(i) for i in soup.find_all(\"div\", {\"class\":\"pilotLink\"})]\n",
    "    pilot_names = [strip_name(str(i)) for i in  soup.find_all(\"div\", {\"class\":\"pilotLink\"})]\n",
    "    for a,b in zip(flight_numbers,pilot_names):\n",
    "        if b==[]:\n",
    "            pilot_list[a]='UNKNOWN'\n",
    "        else:\n",
    "            pilot_list[a]=b[0]\n",
    "    print('page {} done'.format(page))"
   ]
  },
  {
   "cell_type": "code",
   "execution_count": 482,
   "metadata": {},
   "outputs": [],
   "source": [
    " for i in pilot_list.items():\n",
    "        if i[1]==[]:\n",
    "            pilot_list[i[0]]='UNKNOWN'\n",
    "        else:\n",
    "            pilot_list[i[0]]=i[0]"
   ]
  },
  {
   "cell_type": "code",
   "execution_count": 637,
   "metadata": {},
   "outputs": [],
   "source": [
    "# pilot_list"
   ]
  },
  {
   "cell_type": "code",
   "execution_count": 454,
   "metadata": {},
   "outputs": [],
   "source": []
  },
  {
   "cell_type": "code",
   "execution_count": null,
   "metadata": {},
   "outputs": [],
   "source": []
  },
  {
   "cell_type": "code",
   "execution_count": null,
   "metadata": {},
   "outputs": [],
   "source": []
  },
  {
   "cell_type": "code",
   "execution_count": null,
   "metadata": {},
   "outputs": [],
   "source": []
  },
  {
   "cell_type": "code",
   "execution_count": null,
   "metadata": {
    "collapsed": true
   },
   "outputs": [],
   "source": []
  },
  {
   "cell_type": "markdown",
   "metadata": {},
   "source": [
    "### HOW TO SCRAPE THE FLIGHT NUMBERS"
   ]
  },
  {
   "cell_type": "code",
   "execution_count": null,
   "metadata": {
    "collapsed": true
   },
   "outputs": [],
   "source": []
  },
  {
   "cell_type": "code",
   "execution_count": null,
   "metadata": {
    "collapsed": true
   },
   "outputs": [],
   "source": []
  },
  {
   "cell_type": "code",
   "execution_count": null,
   "metadata": {
    "collapsed": true
   },
   "outputs": [],
   "source": []
  },
  {
   "cell_type": "code",
   "execution_count": null,
   "metadata": {
    "collapsed": true
   },
   "outputs": [],
   "source": [
    "\n",
    "flight_number = []\n",
    "\n",
    "for page in range(1,64):\n",
    "\n",
    "    headers = {\n",
    "        'User-Agent':'Mozilla/5.0 (Macintosh; Intel Mac OS X 10_13_1) AppleWebKit/537.36 (KHTML, like Gecko) Chrome/63.0.3239.132 Safari/537.36',\n",
    "        'Referer': 'http://www.paraglidingforum.com/leonardo/page/filter',\n",
    "        'page_num': str(page)}\n",
    "    response = requests.get('http://www.paraglidingforum.com/leonardo/tracks/world/alltimes/brand:all,cat:0,class:all,xctype:all,club:all,pilot:0_0,takeoff:all&fltr=2040E0004242145_8929.&page_num={}'.format(page),headers = headers)\n",
    "    soup = BeautifulSoup(response.text, \"html.parser\")\n",
    "    flight_number.append([link[\"href\"].split('/')[3] for link in soup.find_all(\"a\", {\"class\":\"flightLink\"})])"
   ]
  },
  {
   "cell_type": "code",
   "execution_count": null,
   "metadata": {
    "collapsed": true
   },
   "outputs": [],
   "source": [
    "final_list = []\n",
    "for page in flight_number:\n",
    "    for flight in page:\n",
    "        final_list.append(flight)"
   ]
  },
  {
   "cell_type": "code",
   "execution_count": null,
   "metadata": {
    "collapsed": true
   },
   "outputs": [],
   "source": []
  },
  {
   "cell_type": "code",
   "execution_count": null,
   "metadata": {
    "collapsed": true
   },
   "outputs": [],
   "source": [
    "#saving the flight numbers in a txt file\n",
    "\n",
    "outfile = open('flights2.txt', 'w')\n",
    "\n",
    "for item in final_list:\n",
    "    outfile.write(item)\n",
    "    outfile.write(',')"
   ]
  },
  {
   "cell_type": "markdown",
   "metadata": {},
   "source": [
    "### INTEGRATING WITH THE POSTGRES DB"
   ]
  },
  {
   "cell_type": "code",
   "execution_count": null,
   "metadata": {
    "collapsed": true
   },
   "outputs": [],
   "source": [
    "conn = psycopg2.connect(\"dbname = soaring_predictor\")"
   ]
  },
  {
   "cell_type": "code",
   "execution_count": null,
   "metadata": {
    "collapsed": true
   },
   "outputs": [],
   "source": [
    "cur = conn.cursor()"
   ]
  },
  {
   "cell_type": "code",
   "execution_count": null,
   "metadata": {
    "collapsed": true
   },
   "outputs": [],
   "source": [
    "query = \"\"\"\n",
    "INSERT INTO flight_log \n",
    "(flight,log) \n",
    "VALUES(%s,%s);\n",
    "\"\"\"\n",
    "\n",
    "test = \"\"\"\n",
    "SELECT log\n",
    "FROM flight_log\n",
    "where flight = 1360169;\"\"\"\n"
   ]
  },
  {
   "cell_type": "code",
   "execution_count": null,
   "metadata": {},
   "outputs": [],
   "source": [
    "#testing the conmection \n",
    "cur.execute(test)\n",
    "cur.fetchone()"
   ]
  },
  {
   "cell_type": "code",
   "execution_count": null,
   "metadata": {},
   "outputs": [],
   "source": [
    "test_list = final_list[:5]\n",
    "test_list"
   ]
  },
  {
   "cell_type": "code",
   "execution_count": null,
   "metadata": {},
   "outputs": [],
   "source": [
    "## This loop scrapes & saves into the SQL DB (1:1)\n",
    "\n",
    "good_char = set(string.printable)\n",
    "\n",
    "for i,flight in enumerate(test_list):\n",
    "    \n",
    "    print('Trying flight {}'.format(flight))\n",
    "    data = {\"flightID\": int(flight), \"file\":\"\", \"type\":\"igc\", \"captchaStr\":\"\"}\n",
    "    response = requests.post('http://www.paraglidingforum.com/leonardo/download_igc.php', data = data)\n",
    "    time.sleep(1)\n",
    "    output = response.text\n",
    "\n",
    "\n",
    "    data2 = [(int(flight),output)]\n",
    "\n",
    "\n",
    "    records_list_template = ','.join(['%s'] * len(data2))\n",
    "    insert_query = 'insert into flight_log (flight, log) values {}'.format(records_list_template)\n",
    "    try:\n",
    "        cur.execute(insert_query, data2)\n",
    "    \n",
    "    except:\n",
    "        # This line does not do anything other than avoid an error (it was a try to take bad chars from the log)\n",
    "        output = \"\".join([letter for letter in output if letter in good_char])\n",
    "        print('Flight {} failed'.format(i))\n",
    "        \n",
    "   \n",
    "   if i % 100 == 0:\n",
    "        conn.commit()\n",
    "        print('Saved {} at {}'.format(i, datetime.now().strftime('%H:%M')))\n",
    "\n",
    "conn.commit()\n"
   ]
  },
  {
   "cell_type": "code",
   "execution_count": null,
   "metadata": {
    "collapsed": true
   },
   "outputs": [],
   "source": []
  },
  {
   "cell_type": "code",
   "execution_count": null,
   "metadata": {
    "collapsed": true
   },
   "outputs": [],
   "source": [
    "cur.close()  # Close the cursor\n",
    "conn.close() # Close the connection"
   ]
  },
  {
   "cell_type": "code",
   "execution_count": null,
   "metadata": {
    "collapsed": true
   },
   "outputs": [],
   "source": []
  },
  {
   "cell_type": "markdown",
   "metadata": {},
   "source": [
    "### FUNCTIONS TO GET FEATURES FROM THE FLIGHT LOGS"
   ]
  },
  {
   "cell_type": "code",
   "execution_count": 622,
   "metadata": {
    "collapsed": true
   },
   "outputs": [],
   "source": [
    "'''List of features I want to get from the flight log:\n",
    "            DATE\n",
    "            PILOT NAME\n",
    "            LAUNCH TIME\n",
    "            LANDING TIME\n",
    "            TOTAL FLIGHT TIME\n",
    "            MAX ALTITUDE\n",
    "            TOTAL ALTITUDE GAIN\n",
    "            LAUNCH COORDINATES\n",
    "            LANDING COORDINATES\n",
    "            EUCLIDIAN DISTANCE BETWEEN LAUNCH AND LANDING\n",
    "            LANDING = LAUNCH\n",
    "            LEFT PERIMETER\n",
    "'''\n",
    "\n",
    "#returns the date of the flight (as datetime object)\n",
    "\n",
    "def get_date(igc_file):\n",
    "#     return parser.parse(igc_file.split('\\n')[1][-6:],dayfirst=True).date()\n",
    "    if igc_file.find('HFDTEDATE:') == -1:\n",
    "        s = igc_file.find('HFDTE') + 5\n",
    "    else:\n",
    "        s = igc_file.find('HFDTEDATE:') + 10\n",
    "    return parser.parse(igc_file[s:s+6],dayfirst=True).date()\n",
    "\n",
    "# returns the month (as a string, in the format JAN, FEB...)\n",
    "\n",
    "def get_month(dt_obj):\n",
    "#     return calendar.month_name[dt_obj.month][0:3].upper()\n",
    "    return dt_obj.month\n",
    "\n",
    "def get_year(dt_obj):\n",
    "#     return calendar.month_name[dt_obj.month][0:3].upper()\n",
    "    return dt_obj.year\n",
    "\n",
    "\n",
    "\n",
    "#returns pilot name\n",
    "\n",
    "def pilot_name(igc_file):\n",
    "    if igc_file.find('PILOT') == -1:\n",
    "        return 'UNKNOWN'\n",
    "    else:\n",
    "        p = igc_file.find('PILOT')\n",
    "        s = igc_file.find(':',p)\n",
    "        e = igc_file.find('\\n',s)\n",
    "        return igc_file[s+1:e].strip('\\r').upper().split(' ')[-1]\n",
    "        \n",
    "# returns launch time (as datetime object)\n",
    "\n",
    "# This is to adjust the time from UTC tp PST\n",
    "\n",
    "local_timezone = tzlocal.get_localzone() # get pytz tzinfo\n",
    "utc_time = datetime.strptime(\"2011-01-21 02:37:21\", \"%Y-%m-%d %H:%M:%S\")\n",
    "local_time = utc_time.replace(tzinfo=pytz.utc).astimezone(local_timezone)\n",
    "\n",
    "def launch_time(igc_file):\n",
    "    m = re.search('B(.{6})47', igc_file, )\n",
    "    if m:\n",
    "        found = m.group(1)\n",
    "        return datetime.strptime(found, '%H%M%S').replace(tzinfo=pytz.utc).astimezone(local_timezone).time()\n",
    "    \n",
    "# returns landing time (as datetime object)\n",
    "\n",
    "def landing_time(igc_file):\n",
    "    m = re.findall('B([0123456789]{13})N', igc_file )\n",
    "    found = m[-1][:6]\n",
    "    return datetime.strptime(found, '%H%M%S').replace(tzinfo=pytz.utc).astimezone(local_timezone).time()\n",
    "\n",
    "\n",
    "\n",
    "# returns the total flying time (as datatime object, in seconds)\n",
    "\n",
    "def flying_time(igc_file):\n",
    "    x = launch_time(igc_file)\n",
    "    y = landing_time(igc_file)\n",
    "    diff = datetime.combine(date.today(), y) - datetime.combine(date.today(), x)\n",
    "    return (diff.total_seconds() / 60 )  \n",
    "   \n",
    "\n",
    "#strip the altitude from a string - returns an int\n",
    "\n",
    "def get_alt(alt_str):\n",
    "    if len(alt_str)<=4:\n",
    "        return int(alt_str)\n",
    "    else:\n",
    "        alt_str1 = int(alt_str[0:5].strip('-'))\n",
    "        alt_str2 = int(alt_str[5:10].strip('-'))\n",
    "        if alt_str2 != 0:\n",
    "            return alt_str2\n",
    "        elif alt_str !=0:\n",
    "            return alt_str1\n",
    "\n",
    "# for debug purposes ony - returns list of strings\n",
    "def find_alt_entry(igc_file):\n",
    "    a = re.search('WA([-0123456789]{3,16})', igc_file)\n",
    "    if a:\n",
    "        return a.group(1)\n",
    "    \n",
    "\n",
    "# returns the max altitude in the fligh (in meters)\n",
    "\n",
    "def max_alt(igc_file):\n",
    "    m = re.findall('WA([-0123456789]{2,16})', igc_file)\n",
    "    return max([get_alt(i) for i in m])\n",
    "    \n",
    "\n",
    "\n",
    "\n",
    "# returns the total altitude gain in the flight (in meters):\n",
    "\n",
    "def total_alt_gain(igc_file):\n",
    "    total_alt_gain = 0\n",
    "    m = re.findall('WA([-0123456789]{3,16})', igc_file)\n",
    "    for s, t in zip(m, m[1:]):\n",
    "        try:\n",
    "            if len(t) <= 4:\n",
    "                if int(t) > int(s):\n",
    "                    total_alt_gain += (int(t) - int(s))\n",
    "            elif int(t[5:10]) > int(s[5:10]):\n",
    "                total_alt_gain += (int(t[5:10]) - int(s[5:10]))\n",
    "        except:\n",
    "            next\n",
    "    return total_alt_gain\n",
    "\n",
    "    \n",
    "    \n",
    "\n",
    "# returns launch coordinates\n",
    "\n",
    "def launch_coord(igc_file):\n",
    "    m = re.search('B(.{22}[01234567890NW])A', igc_file )\n",
    "    if m:\n",
    "        found = m.group(1)\n",
    "        e = found.find('N')\n",
    "        lat = found[e-7:e+1]\n",
    "        lon = found[e+1:]\n",
    "        lat = dec_lat(lat)\n",
    "        lon = dec_lon(lon)\n",
    "        return (lat,lon)\n",
    "\n",
    "# returns landing coordinates\n",
    "\n",
    "def landing_coord(igc_file):\n",
    "    m = re.findall('B([01234567890NW]{23})A', igc_file )\n",
    "    found = m[-1]\n",
    "    e = found.find('N')\n",
    "    lat = found[e-7:e+1]\n",
    "    lon = found[e+1:]\n",
    "    lat = dec_lat(lat)\n",
    "    lon = dec_lon(lon)\n",
    "    return (lat,lon)  \n",
    "\n",
    "\n",
    "# returns the coordinates in decimals from string\n",
    "\n",
    "def get_coord(item):\n",
    "    lat = dec_lat(item[8:16])\n",
    "    lon = dec_lon(item[16:25])\n",
    "    return (lat,lon)\n",
    "\n",
    "# returns the latitude in decimals from segregated string\n",
    "\n",
    "\n",
    "def dec_lat(lat):\n",
    "    D = float(lat[0:2])\n",
    "    M = float(lat[2:7])\n",
    "    S = float(lat[4:7])\n",
    "    DD = D + M/60000 \n",
    "    if lat[-1] == 'N':\n",
    "        lat = DD\n",
    "    elif lat[-1] == 'S':\n",
    "        lat = -DD\n",
    "    return lat\n",
    "\n",
    "# returns the longitude in decimals from segregated string\n",
    "\n",
    "def dec_lon(lon):\n",
    "    D = float(lon[0:3])\n",
    "    M = float(lon[3:8])\n",
    "    S = float(lon[5:8])\n",
    "    DD = D + M/60000 \n",
    "    if lon[-1] == 'E':\n",
    "        lon = DD\n",
    "    elif lon[-1] == 'W':\n",
    "        lon = -DD\n",
    "    return lon\n",
    "\n",
    "\n",
    "# returns the euclidian distance between landing and launch\n",
    "\n",
    "def final_eucl_distance(igc_file):\n",
    "    return geopy.distance.vincenty(launch_coord(igc_file), landing_coord(igc_file)).km\n",
    "\n",
    "\n",
    "# returns the euclidian distance between two points (entry in coordinates, returns distance in km)\n",
    "\n",
    "def eucl_distance(pt1,pt2):\n",
    "    return geopy.distance.vincenty(pt1, pt2).km\n",
    "\n",
    "# checks if landed at TIger LZ (0 if not, 1 if yes)\n",
    "\n",
    "def landed_lz(igc_file):\n",
    "    NW_corner = (47.502,-122.026)\n",
    "    SE_corner = (47.498, -122.018)\n",
    "    land_coord = landing_coord(igc_file)\n",
    "    return int(NW_corner[0] <= land_coord[0] <= SE_corner[0] and NW_corner[1] >= land_coord[1] >= SE_corner[1])\n",
    "\n",
    "\n",
    "#Checks if left the perimeter past north or east of the ridge tower or south or west of the nudist club\n",
    "\n",
    "def left_perimeter(igc_file):    \n",
    "    \n",
    "    NE_edge = (47.5092,-121.986)\n",
    "    SW_edge = (47.488,-122.04)\n",
    "    left_per = 0\n",
    "    m = re.findall('B([01234567890NW]{23})A', igc_file )\n",
    "    for record in m:\n",
    "        e = record.find('N')\n",
    "        lat = record[e-7:e+1]\n",
    "        lon = record[e+1:]\n",
    "        lat = dec_lat(lat)\n",
    "        lon = dec_lon(lon)\n",
    "        if  (lat >= NE_edge[0] or lat <= SW_edge[0] or lon >= NE_edge[1]  or lon <= SW_edge[1]):\n",
    "            left_per = 1\n",
    "            break\n",
    "    return left_per  \n",
    "\n",
    "\n",
    "# returns day of the year\n",
    "\n",
    "def doy(dt_obj):\n",
    "    return int(dt_obj.strftime('%j'))\n",
    "\n",
    "\n"
   ]
  },
  {
   "cell_type": "markdown",
   "metadata": {},
   "source": [
    "### CLEANING AND CREATING LABEL FEATUTES"
   ]
  },
  {
   "cell_type": "code",
   "execution_count": 623,
   "metadata": {
    "collapsed": true
   },
   "outputs": [],
   "source": [
    "conn = psycopg2.connect(\"dbname = soaring_predictor\")\n",
    "\n"
   ]
  },
  {
   "cell_type": "code",
   "execution_count": 624,
   "metadata": {
    "collapsed": true
   },
   "outputs": [],
   "source": [
    "Labels = pd.read_sql('SELECT * FROM flight_log;',conn)"
   ]
  },
  {
   "cell_type": "code",
   "execution_count": 625,
   "metadata": {},
   "outputs": [
    {
     "data": {
      "text/plain": [
       "[19,\n",
       " 876,\n",
       " 877,\n",
       " 878,\n",
       " 900,\n",
       " 971,\n",
       " 1012,\n",
       " 1019,\n",
       " 2085,\n",
       " 2282,\n",
       " 2994,\n",
       " 2995,\n",
       " 2996,\n",
       " 3315,\n",
       " 3359,\n",
       " 3361,\n",
       " 3833,\n",
       " 3925,\n",
       " 4059,\n",
       " 4066,\n",
       " 4084,\n",
       " 4107,\n",
       " 4108,\n",
       " 4109,\n",
       " 4112,\n",
       " 4197,\n",
       " 4259,\n",
       " 4355,\n",
       " 4436,\n",
       " 4675]"
      ]
     },
     "execution_count": 625,
     "metadata": {},
     "output_type": "execute_result"
    }
   ],
   "source": [
    "'''There are some records with missing files...this list tags them. Next step is to drop them out'''\n",
    "\n",
    "lst = []\n",
    "\n",
    "for i in range(len(Labels)):\n",
    "    try:\n",
    "        get_date(Labels['log'][i])\n",
    "    except:\n",
    "        lst.append(i)\n",
    "        \n",
    "lst"
   ]
  },
  {
   "cell_type": "code",
   "execution_count": 626,
   "metadata": {
    "collapsed": true
   },
   "outputs": [],
   "source": [
    "Labels.drop(lst, inplace=True)"
   ]
  },
  {
   "cell_type": "code",
   "execution_count": 627,
   "metadata": {},
   "outputs": [
    {
     "data": {
      "text/plain": [
       "Index(['flight', 'log'], dtype='object')"
      ]
     },
     "execution_count": 627,
     "metadata": {},
     "output_type": "execute_result"
    }
   ],
   "source": [
    "Labels.reset_index(inplace = True,drop=True)\n",
    "Labels.columns"
   ]
  },
  {
   "cell_type": "code",
   "execution_count": 628,
   "metadata": {},
   "outputs": [
    {
     "data": {
      "text/plain": [
       "[1048, 3096]"
      ]
     },
     "execution_count": 628,
     "metadata": {},
     "output_type": "execute_result"
    }
   ],
   "source": [
    "# Just to check on corrupted files\n",
    "fails = []\n",
    "for i in range(len(Labels)):\n",
    "    try:\n",
    "        max_alt(Labels['log'][i])\n",
    "    except:\n",
    "        fails.append(i)\n",
    "        \n",
    "fails"
   ]
  },
  {
   "cell_type": "code",
   "execution_count": 629,
   "metadata": {},
   "outputs": [
    {
     "data": {
      "text/plain": [
       "Index(['flight', 'log'], dtype='object')"
      ]
     },
     "execution_count": 629,
     "metadata": {},
     "output_type": "execute_result"
    }
   ],
   "source": [
    "Labels.drop(fails, axis=0, inplace=True)\n",
    "Labels.reset_index(inplace = True,drop=True)\n",
    "Labels.columns\n",
    " "
   ]
  },
  {
   "cell_type": "code",
   "execution_count": 642,
   "metadata": {},
   "outputs": [
    {
     "data": {
      "text/html": [
       "<div>\n",
       "<style scoped>\n",
       "    .dataframe tbody tr th:only-of-type {\n",
       "        vertical-align: middle;\n",
       "    }\n",
       "\n",
       "    .dataframe tbody tr th {\n",
       "        vertical-align: top;\n",
       "    }\n",
       "\n",
       "    .dataframe thead th {\n",
       "        text-align: right;\n",
       "    }\n",
       "</style>\n",
       "<table border=\"1\" class=\"dataframe\">\n",
       "  <thead>\n",
       "    <tr style=\"text-align: right;\">\n",
       "      <th></th>\n",
       "      <th>flight</th>\n",
       "      <th>log</th>\n",
       "      <th>date</th>\n",
       "      <th>pilot</th>\n",
       "      <th>launch_time</th>\n",
       "      <th>landing_time</th>\n",
       "      <th>flying_time</th>\n",
       "      <th>launch_coord</th>\n",
       "      <th>landing_coord</th>\n",
       "      <th>landed_lz</th>\n",
       "      <th>linear_dist</th>\n",
       "      <th>max_alt</th>\n",
       "      <th>total_alt_gain</th>\n",
       "      <th>left_perimeter</th>\n",
       "      <th>month</th>\n",
       "      <th>year</th>\n",
       "      <th>timestamp</th>\n",
       "      <th>doy</th>\n",
       "    </tr>\n",
       "  </thead>\n",
       "  <tbody>\n",
       "    <tr>\n",
       "      <th>0</th>\n",
       "      <td>1860369</td>\n",
       "      <td>AXGG1.66\\r\\nHFDTE010118\\r\\nHFFXA100\\r\\nHFPLTPI...</td>\n",
       "      <td>2018-01-01</td>\n",
       "      <td></td>\n",
       "      <td>13:31:13</td>\n",
       "      <td>13:35:18</td>\n",
       "      <td>4.083333</td>\n",
       "      <td>(47.50035, -122.00958333333334)</td>\n",
       "      <td>(47.5006, -122.02118333333334)</td>\n",
       "      <td>0</td>\n",
       "      <td>0.874419</td>\n",
       "      <td>517</td>\n",
       "      <td>0</td>\n",
       "      <td>0</td>\n",
       "      <td>1</td>\n",
       "      <td>2018</td>\n",
       "      <td>2018-01-01 13:31:13</td>\n",
       "      <td>1</td>\n",
       "    </tr>\n",
       "    <tr>\n",
       "      <th>1</th>\n",
       "      <td>1803029</td>\n",
       "      <td>AXCSAAA\\nHFDTE211217\\nHFFXA050\\nHFPLTPILOTINCH...</td>\n",
       "      <td>2017-12-21</td>\n",
       "      <td>AARON</td>\n",
       "      <td>16:35:41</td>\n",
       "      <td>16:43:57</td>\n",
       "      <td>8.266667</td>\n",
       "      <td>(47.49933333333333, -122.00848333333333)</td>\n",
       "      <td>(47.49993333333333, -122.02186666666667)</td>\n",
       "      <td>0</td>\n",
       "      <td>1.010559</td>\n",
       "      <td>548</td>\n",
       "      <td>83</td>\n",
       "      <td>0</td>\n",
       "      <td>12</td>\n",
       "      <td>2017</td>\n",
       "      <td>2017-12-21 16:35:41</td>\n",
       "      <td>355</td>\n",
       "    </tr>\n",
       "    <tr>\n",
       "      <th>2</th>\n",
       "      <td>1755461</td>\n",
       "      <td>AXGD Flymaster NavSD  SN01525  SW1.06j\\r\\nHFDT...</td>\n",
       "      <td>2017-11-18</td>\n",
       "      <td>HENRIQUEZ</td>\n",
       "      <td>13:24:21</td>\n",
       "      <td>14:59:31</td>\n",
       "      <td>95.166667</td>\n",
       "      <td>(47.49608333333333, -122.01065)</td>\n",
       "      <td>(47.50018333333333, -122.022)</td>\n",
       "      <td>0</td>\n",
       "      <td>0.969083</td>\n",
       "      <td>1057</td>\n",
       "      <td>2749</td>\n",
       "      <td>1</td>\n",
       "      <td>11</td>\n",
       "      <td>2017</td>\n",
       "      <td>2017-11-18 13:24:21</td>\n",
       "      <td>322</td>\n",
       "    </tr>\n",
       "    <tr>\n",
       "      <th>3</th>\n",
       "      <td>1757934</td>\n",
       "      <td>AXCSAAA\\nHFDTE181117\\nHFFXA050\\nHFPLTPILOTINCH...</td>\n",
       "      <td>2017-11-18</td>\n",
       "      <td>MALOCSAY</td>\n",
       "      <td>13:26:17</td>\n",
       "      <td>14:21:06</td>\n",
       "      <td>54.816667</td>\n",
       "      <td>(47.4967, -122.01033333333334)</td>\n",
       "      <td>(47.500366666666665, -122.02195)</td>\n",
       "      <td>0</td>\n",
       "      <td>0.965545</td>\n",
       "      <td>887</td>\n",
       "      <td>1123</td>\n",
       "      <td>1</td>\n",
       "      <td>11</td>\n",
       "      <td>2017</td>\n",
       "      <td>2017-11-18 13:26:17</td>\n",
       "      <td>322</td>\n",
       "    </tr>\n",
       "    <tr>\n",
       "      <th>4</th>\n",
       "      <td>1751790</td>\n",
       "      <td>AXCT XCTrack 0.6.0 on LGE Nexus 5X 8.0.0\\r\\nHP...</td>\n",
       "      <td>2017-11-17</td>\n",
       "      <td>LEONE</td>\n",
       "      <td>13:22:57</td>\n",
       "      <td>14:19:50</td>\n",
       "      <td>56.883333</td>\n",
       "      <td>(47.49661666666667, -122.0102)</td>\n",
       "      <td>(47.4998, -122.02168333333333)</td>\n",
       "      <td>0</td>\n",
       "      <td>0.934814</td>\n",
       "      <td>1008</td>\n",
       "      <td>1446</td>\n",
       "      <td>1</td>\n",
       "      <td>11</td>\n",
       "      <td>2017</td>\n",
       "      <td>2017-11-17 13:22:57</td>\n",
       "      <td>321</td>\n",
       "    </tr>\n",
       "  </tbody>\n",
       "</table>\n",
       "</div>"
      ],
      "text/plain": [
       "    flight                                                log        date  \\\n",
       "0  1860369  AXGG1.66\\r\\nHFDTE010118\\r\\nHFFXA100\\r\\nHFPLTPI...  2018-01-01   \n",
       "1  1803029  AXCSAAA\\nHFDTE211217\\nHFFXA050\\nHFPLTPILOTINCH...  2017-12-21   \n",
       "2  1755461  AXGD Flymaster NavSD  SN01525  SW1.06j\\r\\nHFDT...  2017-11-18   \n",
       "3  1757934  AXCSAAA\\nHFDTE181117\\nHFFXA050\\nHFPLTPILOTINCH...  2017-11-18   \n",
       "4  1751790  AXCT XCTrack 0.6.0 on LGE Nexus 5X 8.0.0\\r\\nHP...  2017-11-17   \n",
       "\n",
       "       pilot launch_time landing_time  flying_time  \\\n",
       "0               13:31:13     13:35:18     4.083333   \n",
       "1      AARON    16:35:41     16:43:57     8.266667   \n",
       "2  HENRIQUEZ    13:24:21     14:59:31    95.166667   \n",
       "3   MALOCSAY    13:26:17     14:21:06    54.816667   \n",
       "4      LEONE    13:22:57     14:19:50    56.883333   \n",
       "\n",
       "                               launch_coord  \\\n",
       "0           (47.50035, -122.00958333333334)   \n",
       "1  (47.49933333333333, -122.00848333333333)   \n",
       "2           (47.49608333333333, -122.01065)   \n",
       "3            (47.4967, -122.01033333333334)   \n",
       "4            (47.49661666666667, -122.0102)   \n",
       "\n",
       "                              landing_coord  landed_lz  linear_dist  max_alt  \\\n",
       "0            (47.5006, -122.02118333333334)          0     0.874419      517   \n",
       "1  (47.49993333333333, -122.02186666666667)          0     1.010559      548   \n",
       "2             (47.50018333333333, -122.022)          0     0.969083     1057   \n",
       "3          (47.500366666666665, -122.02195)          0     0.965545      887   \n",
       "4            (47.4998, -122.02168333333333)          0     0.934814     1008   \n",
       "\n",
       "   total_alt_gain  left_perimeter  month  year           timestamp  doy  \n",
       "0               0               0      1  2018 2018-01-01 13:31:13    1  \n",
       "1              83               0     12  2017 2017-12-21 16:35:41  355  \n",
       "2            2749               1     11  2017 2017-11-18 13:24:21  322  \n",
       "3            1123               1     11  2017 2017-11-18 13:26:17  322  \n",
       "4            1446               1     11  2017 2017-11-17 13:22:57  321  "
      ]
     },
     "execution_count": 642,
     "metadata": {},
     "output_type": "execute_result"
    }
   ],
   "source": [
    "'''Completed:\n",
    "Labels['date'] = Labels['log'].apply(get_date)\n",
    "Labels['pilot'] = Labels['log'].apply(pilot_name)\n",
    "Labels['launch_time'] = Labels['log'].apply(launch_time)\n",
    "Labels['landing_time']=Labels['log'].apply(landing_time)\n",
    "Labels['flying_time'] = Labels['log'].apply(flying_time)\n",
    "Labels['launch_coord']=Labels['log'].apply(launch_coord)\n",
    "Labels['landing_coord']=Labels['log'].apply(landing_coord)\n",
    "Labels['landed_lz']=Labels['log'].apply(landed_lz)\n",
    "Labels['linear_dist']=Labels['log'].apply(final_eucl_distance)\n",
    "Labels['max_alt']=Labels['log'].apply(max_alt)\n",
    "Labels['total_alt_gain']=Labels['log'].apply(total_alt_gain)\n",
    "Labels['left_perimeter']=Labels['log'].apply(left_perimeter)\n",
    "Labels['month'] = Labels['date'].apply(get_month)\n",
    "Labels['year'] = Labels['date'].apply(get_year)\n",
    "--------------------------------------------------------\n",
    "'''\n",
    "\n",
    "# Labels['date'] = Labels['log'].apply(get_date)\n",
    "# Labels['pilot'] = Labels['log'].apply(pilot_name)\n",
    "# Labels['launch_time'] = Labels['log'].apply(launch_time)\n",
    "# Labels['landing_time']=Labels['log'].apply(landing_time)\n",
    "# Labels['flying_time'] = Labels['log'].apply(flying_time)\n",
    "# Labels['launch_coord']=Labels['log'].apply(launch_coord)\n",
    "# # Labels['landing_coord']=Labels['log'].apply(landing_coord)\n",
    "# Labels['landed_lz']=Labels['log'].apply(landed_lz)\n",
    "# Labels['linear_dist']=Labels['log'].apply(final_eucl_distance)\n",
    "# Labels['max_alt']=Labels['log'].apply(max_alt)\n",
    "# Labels['total_alt_gain']=Labels['log'].apply(total_alt_gain)\n",
    "# Labels['left_perimeter']=Labels['log'].apply(left_perimeter)\n",
    "# Labels['month'] = Labels['date'].apply(get_month)\n",
    "# Labels['year'] = Labels['date'].apply(get_year)\n",
    "# Labels['timestamp'] = pd.to_datetime(Labels['date'].apply(str) + ' '+ Labels['launch_time'].apply(str))\n",
    "# Labels['doy']= Labels['date'].apply(doy)\n",
    "Labels.head()"
   ]
  },
  {
   "cell_type": "code",
   "execution_count": 647,
   "metadata": {},
   "outputs": [
    {
     "name": "stdout",
     "output_type": "stream",
     "text": [
      "<class 'pandas.core.frame.DataFrame'>\n",
      "Int64Index: 5076 entries, 0 to 5099\n",
      "Data columns (total 18 columns):\n",
      "flight            5076 non-null int64\n",
      "log               5076 non-null object\n",
      "date              5076 non-null object\n",
      "pilot             5076 non-null object\n",
      "launch_time       5076 non-null object\n",
      "landing_time      5076 non-null object\n",
      "flying_time       5076 non-null float64\n",
      "launch_coord      5076 non-null object\n",
      "landing_coord     5076 non-null object\n",
      "landed_lz         5076 non-null int64\n",
      "linear_dist       5076 non-null float64\n",
      "max_alt           5076 non-null int64\n",
      "total_alt_gain    5076 non-null int64\n",
      "left_perimeter    5076 non-null int64\n",
      "month             5076 non-null int64\n",
      "year              5076 non-null int64\n",
      "timestamp         5076 non-null datetime64[ns]\n",
      "doy               5076 non-null int64\n",
      "dtypes: datetime64[ns](1), float64(2), int64(8), object(7)\n",
      "memory usage: 753.5+ KB\n"
     ]
    }
   ],
   "source": [
    "Labels.info()"
   ]
  },
  {
   "cell_type": "code",
   "execution_count": 612,
   "metadata": {},
   "outputs": [],
   "source": [
    "# DO NOT RUN THIS\n",
    "# Labels['landed_lz'] = Labels['landed_lz'] == 0\n",
    "# Labels['landed_lz'] = Labels['landed_lz'].astype(int)"
   ]
  },
  {
   "cell_type": "code",
   "execution_count": 645,
   "metadata": {
    "collapsed": true
   },
   "outputs": [],
   "source": [
    "Labels = Labels[Labels['flying_time']>0] # deletes rows with negative flying times\n",
    "\n",
    "# Labels = Labels[Labels['year']>2012] # deletes rows older than 2013"
   ]
  },
  {
   "cell_type": "code",
   "execution_count": 646,
   "metadata": {},
   "outputs": [],
   "source": [
    "#Removes records with crazy altitude - flight log is corrupted\n",
    "l =list(Labels['flight'][Labels['max_alt']> 40000].index)\n",
    "Labels.drop(l,inplace = True, axis=0)"
   ]
  },
  {
   "cell_type": "code",
   "execution_count": null,
   "metadata": {},
   "outputs": [],
   "source": []
  },
  {
   "cell_type": "code",
   "execution_count": 618,
   "metadata": {},
   "outputs": [],
   "source": [
    "# dropping a file with crazy max_alt\n",
    "# Labels[Labels['max_alt']>3000]\n",
    "# Labels.drop(3011, axis=0, inplace=True)\n",
    "# Labels.reset_index(inplace = True, drop=True)\n"
   ]
  },
  {
   "cell_type": "code",
   "execution_count": 648,
   "metadata": {},
   "outputs": [],
   "source": [
    "# dropping values with max_alt<200\n",
    "Labels = Labels[Labels['max_alt']>500]"
   ]
  },
  {
   "cell_type": "markdown",
   "metadata": {},
   "source": [
    "### Adjusting Pilot Names\n"
   ]
  },
  {
   "cell_type": "code",
   "execution_count": 649,
   "metadata": {},
   "outputs": [],
   "source": [
    "def adjust_name(flight_number):\n",
    "    return pilot_list[str(flight_number)]"
   ]
  },
  {
   "cell_type": "code",
   "execution_count": null,
   "metadata": {},
   "outputs": [],
   "source": []
  },
  {
   "cell_type": "code",
   "execution_count": 654,
   "metadata": {},
   "outputs": [],
   "source": [
    "Labels['pilot'] = Labels['flight'].apply(adjust_name)"
   ]
  },
  {
   "cell_type": "code",
   "execution_count": null,
   "metadata": {},
   "outputs": [],
   "source": []
  },
  {
   "cell_type": "code",
   "execution_count": 655,
   "metadata": {},
   "outputs": [
    {
     "data": {
      "text/plain": [
       "Index(['flight', 'log', 'date', 'pilot', 'launch_time', 'landing_time',\n",
       "       'flying_time', 'launch_coord', 'landing_coord', 'landed_lz',\n",
       "       'linear_dist', 'max_alt', 'total_alt_gain', 'left_perimeter', 'month',\n",
       "       'year', 'timestamp', 'doy'],\n",
       "      dtype='object')"
      ]
     },
     "execution_count": 655,
     "metadata": {},
     "output_type": "execute_result"
    }
   ],
   "source": [
    "Labels.columns"
   ]
  },
  {
   "cell_type": "code",
   "execution_count": 656,
   "metadata": {},
   "outputs": [],
   "source": [
    "DF = Labels\n"
   ]
  },
  {
   "cell_type": "code",
   "execution_count": 657,
   "metadata": {},
   "outputs": [
    {
     "data": {
      "text/plain": [
       "Index(['flight', 'log', 'date', 'pilot', 'launch_time', 'landing_time',\n",
       "       'flying_time', 'launch_coord', 'landing_coord', 'landed_lz',\n",
       "       'linear_dist', 'max_alt', 'total_alt_gain', 'left_perimeter', 'month',\n",
       "       'year', 'timestamp', 'doy'],\n",
       "      dtype='object')"
      ]
     },
     "execution_count": 657,
     "metadata": {},
     "output_type": "execute_result"
    }
   ],
   "source": [
    "DF.columns"
   ]
  },
  {
   "cell_type": "code",
   "execution_count": 658,
   "metadata": {},
   "outputs": [],
   "source": [
    "# Dropping values earlier than 2005\n",
    "DF = DF[DF['year'] > 2004]"
   ]
  },
  {
   "cell_type": "markdown",
   "metadata": {},
   "source": [
    "### Clustering - Pilot ranking (by XC)"
   ]
  },
  {
   "cell_type": "code",
   "execution_count": 661,
   "metadata": {},
   "outputs": [
    {
     "data": {
      "text/plain": [
       "Index(['flight', 'log', 'date', 'pilot', 'launch_time', 'landing_time',\n",
       "       'flying_time', 'launch_coord', 'landing_coord', 'landed_lz',\n",
       "       'linear_dist', 'max_alt', 'total_alt_gain', 'left_perimeter', 'month',\n",
       "       'year', 'timestamp', 'doy'],\n",
       "      dtype='object')"
      ]
     },
     "execution_count": 661,
     "metadata": {},
     "output_type": "execute_result"
    }
   ],
   "source": [
    "DF.columns"
   ]
  },
  {
   "cell_type": "code",
   "execution_count": 696,
   "metadata": {},
   "outputs": [],
   "source": [
    "from sklearn.cluster import KMeans\n",
    "\n",
    "\n",
    "#grouping pilots by cluster (based on how often left perimeter)\n",
    "\n",
    "pilot_ranking = DF.groupby('pilot')['left_perimeter'].mean()\n",
    "X = pilot_ranking.as_matrix().reshape(-1, 1)\n",
    "\n",
    "K = KMeans(n_clusters=3, random_state=0).fit(X)\n",
    "\n",
    "clusters = K.predict(X)"
   ]
  },
  {
   "cell_type": "code",
   "execution_count": null,
   "metadata": {},
   "outputs": [],
   "source": []
  },
  {
   "cell_type": "code",
   "execution_count": 697,
   "metadata": {
    "collapsed": true
   },
   "outputs": [],
   "source": [
    "DF['pilot_rank']=None"
   ]
  },
  {
   "cell_type": "code",
   "execution_count": 698,
   "metadata": {
    "collapsed": true
   },
   "outputs": [],
   "source": [
    "# Inserting pilot_rank\n",
    "def pilot_rank(pilot):\n",
    "    if pilot in cluster_0:\n",
    "        return 0\n",
    "    elif pilot in cluster_1:\n",
    "        return 1\n",
    "    elif pilot in cluster_2:\n",
    "        return 2\n",
    "    else:\n",
    "        return 1"
   ]
  },
  {
   "cell_type": "code",
   "execution_count": 699,
   "metadata": {},
   "outputs": [],
   "source": [
    "cluster_0 = set(pilot_ranking.index[clusters==0] )\n",
    "cluster_1 = set(pilot_ranking.index[clusters==1] )\n",
    "cluster_2 = set(pilot_ranking.index[clusters==2] )"
   ]
  },
  {
   "cell_type": "code",
   "execution_count": null,
   "metadata": {},
   "outputs": [],
   "source": []
  },
  {
   "cell_type": "code",
   "execution_count": null,
   "metadata": {},
   "outputs": [],
   "source": []
  },
  {
   "cell_type": "code",
   "execution_count": 701,
   "metadata": {},
   "outputs": [],
   "source": [
    "DF['pilot_rank']=DF['pilot'].apply(pilot_rank)"
   ]
  },
  {
   "cell_type": "code",
   "execution_count": null,
   "metadata": {
    "collapsed": true
   },
   "outputs": [],
   "source": []
  },
  {
   "cell_type": "code",
   "execution_count": null,
   "metadata": {
    "collapsed": true
   },
   "outputs": [],
   "source": [
    "backup = DF\n",
    "backup = pd.get_dummies(DF['pilot_rank'])\n",
    "DF = pd.concat([DF, backup], axis=1)\n",
    "DF.drop('pilot_rank',inplace=True,axis=1)"
   ]
  },
  {
   "cell_type": "code",
   "execution_count": 712,
   "metadata": {},
   "outputs": [
    {
     "data": {
      "text/plain": [
       "Index(['flight', 'date', 'pilot', 'launch_time', 'landing_time', 'flying_time',\n",
       "       'launch_coord', 'landing_coord', 'landed_lz', 'linear_dist', 'max_alt',\n",
       "       'total_alt_gain', 'left_perimeter', 'month', 'year', 'timestamp', 'doy',\n",
       "       'rank_alt_0', 'rank_alt_1', 'rank_alt_2', 'overall_rank_0',\n",
       "       'overall_rank_1', 'overall_rank_2', 'pilot_rank_0', 'pilot_rank_1',\n",
       "       'pilot_rank_2'],\n",
       "      dtype='object')"
      ]
     },
     "execution_count": 712,
     "metadata": {},
     "output_type": "execute_result"
    }
   ],
   "source": [
    "DF.columns"
   ]
  },
  {
   "cell_type": "code",
   "execution_count": 711,
   "metadata": {},
   "outputs": [],
   "source": [
    "DF.rename(columns={0: \"pilot_rank_0\",1:'pilot_rank_1',2:'pilot_rank_2'},inplace=True)"
   ]
  },
  {
   "cell_type": "markdown",
   "metadata": {},
   "source": [
    "### Clustering - Pilot ranking (by max alt)"
   ]
  },
  {
   "cell_type": "code",
   "execution_count": 668,
   "metadata": {},
   "outputs": [],
   "source": [
    "DF.reset_index(inplace=True,drop=True)"
   ]
  },
  {
   "cell_type": "code",
   "execution_count": 669,
   "metadata": {
    "collapsed": true
   },
   "outputs": [],
   "source": [
    "#grouping pilots by cluster (based on how often left perimeter)\n",
    "\n",
    "alt_ranking = DF.groupby('pilot')['max_alt'].mean()\n",
    "X = alt_ranking.as_matrix().reshape(-1, 1)\n",
    "\n",
    "K = KMeans(n_clusters=3, random_state=0).fit(X)\n",
    "\n",
    "clusters2 = K.predict(X)"
   ]
  },
  {
   "cell_type": "code",
   "execution_count": 670,
   "metadata": {
    "collapsed": true
   },
   "outputs": [],
   "source": [
    "cluster2_0 = set(alt_ranking.index[clusters2==0] )\n",
    "cluster2_1 = set(alt_ranking.index[clusters2==1] )\n",
    "cluster2_2 = set(alt_ranking.index[clusters2==2] )"
   ]
  },
  {
   "cell_type": "code",
   "execution_count": 671,
   "metadata": {
    "collapsed": true
   },
   "outputs": [],
   "source": [
    "# Inserting alt_rank\n",
    "def alt_rank(pilot):\n",
    "    if pilot in cluster2_0:\n",
    "        return 0\n",
    "    elif pilot in cluster2_1:\n",
    "        return 1\n",
    "    elif pilot in cluster2_2:\n",
    "        return 2\n"
   ]
  },
  {
   "cell_type": "code",
   "execution_count": 672,
   "metadata": {},
   "outputs": [],
   "source": [
    "DF['alt_rank'] = DF['pilot'].apply(alt_rank)"
   ]
  },
  {
   "cell_type": "code",
   "execution_count": 673,
   "metadata": {},
   "outputs": [],
   "source": [
    "backup = DF"
   ]
  },
  {
   "cell_type": "code",
   "execution_count": 674,
   "metadata": {},
   "outputs": [],
   "source": [
    "backup = pd.get_dummies(DF['alt_rank'])"
   ]
  },
  {
   "cell_type": "code",
   "execution_count": 675,
   "metadata": {},
   "outputs": [],
   "source": [
    "DF = pd.concat([DF, backup], axis=1)"
   ]
  },
  {
   "cell_type": "code",
   "execution_count": 676,
   "metadata": {},
   "outputs": [],
   "source": [
    "DF.drop('alt_rank',inplace=True,axis=1)"
   ]
  },
  {
   "cell_type": "code",
   "execution_count": 677,
   "metadata": {},
   "outputs": [],
   "source": [
    "DF = DF.rename(columns={0: 'rank_alt_0', 1: 'rank_alt_1',2:'rank_alt_2'})"
   ]
  },
  {
   "cell_type": "code",
   "execution_count": null,
   "metadata": {},
   "outputs": [],
   "source": []
  },
  {
   "cell_type": "markdown",
   "metadata": {},
   "source": [
    "### Clustering - Pilot ranking (by max alt and XC)"
   ]
  },
  {
   "cell_type": "code",
   "execution_count": 687,
   "metadata": {},
   "outputs": [],
   "source": [
    "overall_rank = DF.groupby('pilot')['max_alt','left_perimeter'].mean()\n",
    "X = overall_rank.as_matrix()\n",
    "K = KMeans(n_clusters=3, random_state=0).fit(X)\n",
    "\n",
    "clusters3 = K.predict(X)"
   ]
  },
  {
   "cell_type": "code",
   "execution_count": 689,
   "metadata": {},
   "outputs": [],
   "source": [
    "cluster3_0 = set(overall_rank.index[clusters3==0] )\n",
    "cluster3_1 = set(overall_rank.index[clusters3==1] )\n",
    "cluster3_2 = set(overall_rank.index[clusters3==2] )"
   ]
  },
  {
   "cell_type": "code",
   "execution_count": 690,
   "metadata": {
    "collapsed": true
   },
   "outputs": [],
   "source": [
    "# Inserting alt_rank\n",
    "def overall_rank(pilot):\n",
    "    if pilot in cluster3_0:\n",
    "        return 0\n",
    "    elif pilot in cluster3_1:\n",
    "        return 1\n",
    "    elif pilot in cluster3_2:\n",
    "        return 2\n",
    "    "
   ]
  },
  {
   "cell_type": "code",
   "execution_count": 692,
   "metadata": {},
   "outputs": [
    {
     "data": {
      "text/plain": [
       "Index([        'flight',            'log',           'date',          'pilot',\n",
       "          'launch_time',   'landing_time',    'flying_time',   'launch_coord',\n",
       "        'landing_coord',      'landed_lz',    'linear_dist',        'max_alt',\n",
       "       'total_alt_gain', 'left_perimeter',          'month',           'year',\n",
       "            'timestamp',            'doy',     'rank_alt_0',     'rank_alt_1',\n",
       "           'rank_alt_2',                0,                1,                2],\n",
       "      dtype='object')"
      ]
     },
     "execution_count": 692,
     "metadata": {},
     "output_type": "execute_result"
    }
   ],
   "source": [
    "DF.columns"
   ]
  },
  {
   "cell_type": "code",
   "execution_count": null,
   "metadata": {
    "collapsed": true
   },
   "outputs": [],
   "source": [
    "backup = DF\n",
    "backup = pd.get_dummies(DF['overall_rank'])\n",
    "DF = pd.concat([DF, backup], axis=1)\n",
    "DF['overall_rank'] = DF['pilot'].apply(overall_rank)"
   ]
  },
  {
   "cell_type": "code",
   "execution_count": 693,
   "metadata": {},
   "outputs": [],
   "source": [
    "DF = DF.rename(columns={0: 'overall_rank_0', 1: 'overall_rank_1',2:'overall_rank_2'})"
   ]
  },
  {
   "cell_type": "code",
   "execution_count": 709,
   "metadata": {},
   "outputs": [
    {
     "data": {
      "text/plain": [
       "Index([        'flight',           'date',          'pilot',    'launch_time',\n",
       "         'landing_time',    'flying_time',   'launch_coord',  'landing_coord',\n",
       "            'landed_lz',    'linear_dist',        'max_alt', 'total_alt_gain',\n",
       "       'left_perimeter',          'month',           'year',      'timestamp',\n",
       "                  'doy',     'rank_alt_0',     'rank_alt_1',     'rank_alt_2',\n",
       "       'overall_rank_0', 'overall_rank_1', 'overall_rank_2',                0,\n",
       "                      1,                2],\n",
       "      dtype='object')"
      ]
     },
     "execution_count": 709,
     "metadata": {},
     "output_type": "execute_result"
    }
   ],
   "source": [
    "# DF.drop('overall_rank',inplace=True,axis=1)\n",
    "DF.columns"
   ]
  },
  {
   "cell_type": "code",
   "execution_count": 706,
   "metadata": {},
   "outputs": [],
   "source": [
    "DF.drop('log',axis=1,inplace=True)"
   ]
  },
  {
   "cell_type": "code",
   "execution_count": null,
   "metadata": {},
   "outputs": [],
   "source": []
  },
  {
   "cell_type": "code",
   "execution_count": null,
   "metadata": {},
   "outputs": [],
   "source": []
  },
  {
   "cell_type": "code",
   "execution_count": null,
   "metadata": {
    "collapsed": true
   },
   "outputs": [],
   "source": []
  },
  {
   "cell_type": "code",
   "execution_count": 713,
   "metadata": {},
   "outputs": [
    {
     "data": {
      "text/plain": [
       "Index(['flight', 'date', 'pilot', 'launch_time', 'landing_time', 'flying_time',\n",
       "       'launch_coord', 'landing_coord', 'landed_lz', 'linear_dist', 'max_alt',\n",
       "       'total_alt_gain', 'left_perimeter', 'month', 'year', 'timestamp', 'doy',\n",
       "       'rank_alt_0', 'rank_alt_1', 'rank_alt_2', 'overall_rank_0',\n",
       "       'overall_rank_1', 'overall_rank_2', 'pilot_rank_0', 'pilot_rank_1',\n",
       "       'pilot_rank_2'],\n",
       "      dtype='object')"
      ]
     },
     "execution_count": 713,
     "metadata": {},
     "output_type": "execute_result"
    }
   ],
   "source": [
    "DF.columns"
   ]
  },
  {
   "cell_type": "code",
   "execution_count": null,
   "metadata": {
    "collapsed": true
   },
   "outputs": [],
   "source": []
  },
  {
   "cell_type": "code",
   "execution_count": 714,
   "metadata": {
    "collapsed": true
   },
   "outputs": [],
   "source": [
    "#Sweet way to push DF to Postgres DB\n",
    "\n",
    "\n",
    "import io\n",
    "\n",
    "from sqlalchemy import create_engine\n",
    "\n",
    "# fail, append or replace\n",
    "\n",
    "def write_to_table(df, db_engine, table_name, if_exists='fail'):\n",
    "    string_data_io = io.StringIO()\n",
    "    df.to_csv(string_data_io, sep='|', index=False)\n",
    "    pd_sql_engine = pd.io.sql.pandasSQL_builder(db_engine)\n",
    "    table = pd.io.sql.SQLTable(table_name, pd_sql_engine, frame=df,\n",
    "                               index=False, if_exists=if_exists)\n",
    "    table.create()\n",
    "    string_data_io.seek(0)\n",
    "    string_data_io.readline()  # remove header\n",
    "    with db_engine.connect() as connection:\n",
    "        with connection.connection.cursor() as cursor:\n",
    "            copy_cmd = \"COPY %s FROM STDIN HEADER DELIMITER '|' CSV\" % table_name\n",
    "            cursor.copy_expert(copy_cmd, string_data_io)\n",
    "        connection.connection.commit()"
   ]
  },
  {
   "cell_type": "code",
   "execution_count": 715,
   "metadata": {
    "collapsed": true
   },
   "outputs": [],
   "source": [
    "address = 'postgresql://@localhost:5432/soaring_predictor'\n",
    "engine = create_engine(address)"
   ]
  },
  {
   "cell_type": "code",
   "execution_count": null,
   "metadata": {
    "collapsed": true
   },
   "outputs": [],
   "source": []
  },
  {
   "cell_type": "code",
   "execution_count": 716,
   "metadata": {},
   "outputs": [],
   "source": [
    "write_to_table(DF, engine, 'flight_metrics')"
   ]
  },
  {
   "cell_type": "markdown",
   "metadata": {
    "collapsed": true
   },
   "source": [
    "### Recovering DF from SQL SB"
   ]
  },
  {
   "cell_type": "code",
   "execution_count": 62,
   "metadata": {},
   "outputs": [],
   "source": [
    "conn = psycopg2.connect(\"dbname = soaring_predictor\")"
   ]
  },
  {
   "cell_type": "code",
   "execution_count": 63,
   "metadata": {
    "collapsed": true
   },
   "outputs": [],
   "source": [
    "DF = pd.read_sql('SELECT * from flight_metrics;', conn)"
   ]
  },
  {
   "cell_type": "code",
   "execution_count": null,
   "metadata": {},
   "outputs": [],
   "source": [
    "# dates = matplotlib.dates.date2num(DF['date'])\n",
    "# fig,ax = plt.subplots(figsize = (18,8))\n",
    "# ax.scatter(DF['doy'], DF['max_alt'], alpha = 0.5,)\n",
    "# ax.set_title('Maximum altutide [in meters]',fontsize=20)\n",
    "# ax.set_ylabel('meters', fontsize=16)\n",
    "# ax.set_xticks([0,90,180,270]) # choose which x locations to have ticks\n",
    "# ax.set_xticklabels(['Jan','Apr',\"Jul\",'Oct'], fontsize=14)"
   ]
  },
  {
   "cell_type": "markdown",
   "metadata": {},
   "source": []
  },
  {
   "cell_type": "code",
   "execution_count": null,
   "metadata": {
    "collapsed": true
   },
   "outputs": [],
   "source": []
  },
  {
   "cell_type": "code",
   "execution_count": null,
   "metadata": {},
   "outputs": [],
   "source": []
  },
  {
   "cell_type": "code",
   "execution_count": null,
   "metadata": {
    "collapsed": true
   },
   "outputs": [],
   "source": []
  }
 ],
 "metadata": {
  "kernelspec": {
   "display_name": "Python 3",
   "language": "python",
   "name": "python3"
  },
  "language_info": {
   "codemirror_mode": {
    "name": "ipython",
    "version": 3
   },
   "file_extension": ".py",
   "mimetype": "text/x-python",
   "name": "python",
   "nbconvert_exporter": "python",
   "pygments_lexer": "ipython3",
   "version": "3.6.3"
  }
 },
 "nbformat": 4,
 "nbformat_minor": 2
}

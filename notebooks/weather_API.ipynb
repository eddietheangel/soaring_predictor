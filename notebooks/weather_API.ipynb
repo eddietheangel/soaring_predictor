{
 "cells": [
  {
   "cell_type": "code",
   "execution_count": 355,
   "metadata": {
    "collapsed": true
   },
   "outputs": [],
   "source": [
    "import requests\n",
    "import json\n",
    "import pandas as pd\n",
    "import time\n",
    "from datetime import datetime, timezone\n",
    "import re\n",
    "from math import cos,radians\n",
    "import psycopg2\n",
    "\n",
    "\n",
    "import warnings\n",
    "warnings.filterwarnings('ignore')"
   ]
  },
  {
   "cell_type": "code",
   "execution_count": 1,
   "metadata": {
    "collapsed": true
   },
   "outputs": [],
   "source": [
    "key = 'a1a0721d8c62d9ec'"
   ]
  },
  {
   "cell_type": "markdown",
   "metadata": {},
   "source": [
    "### For hourly forecast"
   ]
  },
  {
   "cell_type": "code",
   "execution_count": 139,
   "metadata": {},
   "outputs": [
    {
     "data": {
      "text/plain": [
       "200"
      ]
     },
     "execution_count": 139,
     "metadata": {},
     "output_type": "execute_result"
    }
   ],
   "source": [
    "hourly = requests.get('http://api.wunderground.com/api/a1a0721d8c62d9ec/hourly/q/WA/Issaquah.json')\n",
    "hourly.status_code\n",
    "\n",
    "\n"
   ]
  },
  {
   "cell_type": "code",
   "execution_count": 140,
   "metadata": {
    "collapsed": true
   },
   "outputs": [],
   "source": [
    "prediction = json.loads(hourly.content)"
   ]
  },
  {
   "cell_type": "code",
   "execution_count": 130,
   "metadata": {},
   "outputs": [
    {
     "data": {
      "text/plain": [
       "dict_keys(['response', 'hourly_forecast'])"
      ]
     },
     "execution_count": 130,
     "metadata": {},
     "output_type": "execute_result"
    }
   ],
   "source": [
    "prediction.keys()"
   ]
  },
  {
   "cell_type": "markdown",
   "metadata": {},
   "source": [
    "### For current conditions"
   ]
  },
  {
   "cell_type": "code",
   "execution_count": 33,
   "metadata": {},
   "outputs": [
    {
     "data": {
      "text/plain": [
       "200"
      ]
     },
     "execution_count": 33,
     "metadata": {},
     "output_type": "execute_result"
    }
   ],
   "source": [
    "current = requests.get('http://api.wunderground.com/api/a1a0721d8c62d9ec/conditions/q/WA/Issaquah.json')\n",
    "current.status_code"
   ]
  },
  {
   "cell_type": "code",
   "execution_count": 36,
   "metadata": {},
   "outputs": [],
   "source": [
    "current = json.loads(current.content)"
   ]
  },
  {
   "cell_type": "markdown",
   "metadata": {},
   "source": [
    "### Getting the feed in the same format of the model"
   ]
  },
  {
   "cell_type": "code",
   "execution_count": 41,
   "metadata": {
    "collapsed": true
   },
   "outputs": [],
   "source": [
    "features = ['overall_rank_0','overall_rank_1', 'overall_rank_2', \n",
    "            'alti_0', 'alti_4', 'alti_8', 'alti_12', 'alti_16',\n",
    "            'drct_0', 'drct_4', 'drct_8', 'drct_12', 'drct_16',\n",
    "            'dwpf_0', 'dwpf_4', 'dwpf_8', 'dwpf_12', 'dwpf_16',\n",
    "            'p01i_0', 'p01i_4', 'p01i_8', 'p01i_12', 'p01i_16',\n",
    "            'relh_0', 'relh_4', 'relh_8', 'relh_12', 'relh_16',\n",
    "            'sknt_0', 'sknt_4', 'sknt_8', 'sknt_12', 'sknt_16',\n",
    "            'skyc1_0', 'skyc1_4', 'skyc1_8', 'skyc1_12', 'skyc1_16',\n",
    "            'psgr_0', 'psgr_4', 'psgr_8', 'psgr_12', 'psgr_16',\n",
    "            'tmpf_0', 'tmpf_4', 'tmpf_8', 'tmpf_12', 'tmpf_16']"
   ]
  },
  {
   "cell_type": "code",
   "execution_count": 263,
   "metadata": {},
   "outputs": [],
   "source": [
    "TEST = pd.DataFrame(prediction['hourly_forecast'])\n"
   ]
  },
  {
   "cell_type": "code",
   "execution_count": 301,
   "metadata": {},
   "outputs": [],
   "source": [
    "output = []\n",
    "for i,item in enumerate(prediction['hourly_forecast']):\n",
    "    \n",
    "    output.append({'epoch':item['FCTTIME']['epoch'],\n",
    "                   'hour':item['FCTTIME']['hour'],\n",
    "                    'alti':item['mslp']['english'],\n",
    "                    'drct': item['wdir']['degrees'],\n",
    "                    'dwpf': item['dewpoint']['english'],\n",
    "                    'p01i' : item ['qpf']['english'],\n",
    "                    'relh':item ['humidity'],\n",
    "                    'sknt':int(item['wspd']['metric'])/1.8 ,\n",
    "                    'skyc1':item['sky'],\n",
    "                    'tmpf':item['temp']['english']})\n"
   ]
  },
  {
   "cell_type": "code",
   "execution_count": 303,
   "metadata": {},
   "outputs": [
    {
     "data": {
      "text/html": [
       "<div>\n",
       "<style scoped>\n",
       "    .dataframe tbody tr th:only-of-type {\n",
       "        vertical-align: middle;\n",
       "    }\n",
       "\n",
       "    .dataframe tbody tr th {\n",
       "        vertical-align: top;\n",
       "    }\n",
       "\n",
       "    .dataframe thead th {\n",
       "        text-align: right;\n",
       "    }\n",
       "</style>\n",
       "<table border=\"1\" class=\"dataframe\">\n",
       "  <thead>\n",
       "    <tr style=\"text-align: right;\">\n",
       "      <th></th>\n",
       "      <th>epoch</th>\n",
       "      <th>hour</th>\n",
       "      <th>alti</th>\n",
       "      <th>drct</th>\n",
       "      <th>dwpf</th>\n",
       "      <th>p01i</th>\n",
       "      <th>relh</th>\n",
       "      <th>sknt</th>\n",
       "      <th>skyc1</th>\n",
       "      <th>psgr</th>\n",
       "      <th>tmpf</th>\n",
       "    </tr>\n",
       "  </thead>\n",
       "  <tbody>\n",
       "    <tr>\n",
       "      <th>0</th>\n",
       "      <td>1517331600</td>\n",
       "      <td>9</td>\n",
       "      <td>30.08</td>\n",
       "      <td>198</td>\n",
       "      <td>40</td>\n",
       "      <td>0.0</td>\n",
       "      <td>90</td>\n",
       "      <td>10.0</td>\n",
       "      <td>70</td>\n",
       "      <td>NaN</td>\n",
       "      <td>43</td>\n",
       "    </tr>\n",
       "    <tr>\n",
       "      <th>1</th>\n",
       "      <td>1517335200</td>\n",
       "      <td>10</td>\n",
       "      <td>30.09</td>\n",
       "      <td>204</td>\n",
       "      <td>40</td>\n",
       "      <td>0.0</td>\n",
       "      <td>86</td>\n",
       "      <td>10.0</td>\n",
       "      <td>68</td>\n",
       "      <td>NaN</td>\n",
       "      <td>44</td>\n",
       "    </tr>\n",
       "    <tr>\n",
       "      <th>2</th>\n",
       "      <td>1517338800</td>\n",
       "      <td>11</td>\n",
       "      <td>30.1</td>\n",
       "      <td>208</td>\n",
       "      <td>40</td>\n",
       "      <td>0.01</td>\n",
       "      <td>82</td>\n",
       "      <td>10.0</td>\n",
       "      <td>66</td>\n",
       "      <td>NaN</td>\n",
       "      <td>45</td>\n",
       "    </tr>\n",
       "    <tr>\n",
       "      <th>3</th>\n",
       "      <td>1517342400</td>\n",
       "      <td>12</td>\n",
       "      <td>30.1</td>\n",
       "      <td>206</td>\n",
       "      <td>40</td>\n",
       "      <td>0.02</td>\n",
       "      <td>81</td>\n",
       "      <td>10.0</td>\n",
       "      <td>73</td>\n",
       "      <td>NaN</td>\n",
       "      <td>46</td>\n",
       "    </tr>\n",
       "    <tr>\n",
       "      <th>4</th>\n",
       "      <td>1517346000</td>\n",
       "      <td>13</td>\n",
       "      <td>30.1</td>\n",
       "      <td>205</td>\n",
       "      <td>40</td>\n",
       "      <td>0.0</td>\n",
       "      <td>80</td>\n",
       "      <td>10.0</td>\n",
       "      <td>72</td>\n",
       "      <td>NaN</td>\n",
       "      <td>46</td>\n",
       "    </tr>\n",
       "  </tbody>\n",
       "</table>\n",
       "</div>"
      ],
      "text/plain": [
       "        epoch hour   alti drct dwpf  p01i relh  sknt skyc1  psgr tmpf\n",
       "0  1517331600    9  30.08  198   40   0.0   90  10.0    70   NaN   43\n",
       "1  1517335200   10  30.09  204   40   0.0   86  10.0    68   NaN   44\n",
       "2  1517338800   11   30.1  208   40  0.01   82  10.0    66   NaN   45\n",
       "3  1517342400   12   30.1  206   40  0.02   81  10.0    73   NaN   46\n",
       "4  1517346000   13   30.1  205   40   0.0   80  10.0    72   NaN   46"
      ]
     },
     "execution_count": 303,
     "metadata": {},
     "output_type": "execute_result"
    }
   ],
   "source": [
    "TEMP = pd.DataFrame(output, columns = ['epoch','hour','alti','drct','dwpf','p01i','relh','sknt','skyc1','psgr','tmpf'])\n",
    "TEMP.head()"
   ]
  },
  {
   "cell_type": "code",
   "execution_count": 304,
   "metadata": {},
   "outputs": [],
   "source": [
    "# create timespamp\n",
    "def ts(epoch):\n",
    "    return datetime.fromtimestamp(int(epoch)).strftime('%Y-%m-%d %H:%M:%S')"
   ]
  },
  {
   "cell_type": "code",
   "execution_count": 305,
   "metadata": {},
   "outputs": [],
   "source": [
    "TEMP['TS'] = TEMP['epoch'].apply(ts)"
   ]
  },
  {
   "cell_type": "code",
   "execution_count": 306,
   "metadata": {
    "collapsed": true
   },
   "outputs": [],
   "source": [
    "TEMP['TS'] = pd.to_datetime(TEMP['TS'])"
   ]
  },
  {
   "cell_type": "code",
   "execution_count": 307,
   "metadata": {},
   "outputs": [],
   "source": [
    "# Assigning as index\n",
    "TEMP.set_index('TS',inplace=True)"
   ]
  },
  {
   "cell_type": "code",
   "execution_count": 309,
   "metadata": {},
   "outputs": [],
   "source": [
    "# converting strings to numbers\n",
    "\n",
    "lst = ['alti','drct','dwpf','p01i','relh','sknt','skyc1','tmpf']\n",
    "for col in lst:\n",
    "    TEMP[col] = TEMP[col].apply(pd.to_numeric, errors='coerce')"
   ]
  },
  {
   "cell_type": "code",
   "execution_count": 310,
   "metadata": {
    "collapsed": true
   },
   "outputs": [],
   "source": [
    "# Aggregating in 4H periods"
   ]
  },
  {
   "cell_type": "code",
   "execution_count": 312,
   "metadata": {},
   "outputs": [
    {
     "data": {
      "text/html": [
       "<div>\n",
       "<style scoped>\n",
       "    .dataframe tbody tr th:only-of-type {\n",
       "        vertical-align: middle;\n",
       "    }\n",
       "\n",
       "    .dataframe tbody tr th {\n",
       "        vertical-align: top;\n",
       "    }\n",
       "\n",
       "    .dataframe thead th {\n",
       "        text-align: right;\n",
       "    }\n",
       "</style>\n",
       "<table border=\"1\" class=\"dataframe\">\n",
       "  <thead>\n",
       "    <tr style=\"text-align: right;\">\n",
       "      <th></th>\n",
       "      <th>tmpf</th>\n",
       "      <th>alti</th>\n",
       "      <th>drct</th>\n",
       "      <th>dwpf</th>\n",
       "      <th>p01i</th>\n",
       "      <th>relh</th>\n",
       "      <th>sknt</th>\n",
       "      <th>skyc1</th>\n",
       "    </tr>\n",
       "    <tr>\n",
       "      <th>TS</th>\n",
       "      <th></th>\n",
       "      <th></th>\n",
       "      <th></th>\n",
       "      <th></th>\n",
       "      <th></th>\n",
       "      <th></th>\n",
       "      <th></th>\n",
       "      <th></th>\n",
       "    </tr>\n",
       "  </thead>\n",
       "  <tbody>\n",
       "    <tr>\n",
       "      <th>2018-01-30 08:00:00</th>\n",
       "      <td>44.00</td>\n",
       "      <td>30.0900</td>\n",
       "      <td>203.333333</td>\n",
       "      <td>40.00</td>\n",
       "      <td>0.003333</td>\n",
       "      <td>86.00</td>\n",
       "      <td>10.000000</td>\n",
       "      <td>68.00</td>\n",
       "    </tr>\n",
       "    <tr>\n",
       "      <th>2018-01-30 12:00:00</th>\n",
       "      <td>46.00</td>\n",
       "      <td>30.1050</td>\n",
       "      <td>204.750000</td>\n",
       "      <td>39.75</td>\n",
       "      <td>0.005000</td>\n",
       "      <td>79.00</td>\n",
       "      <td>10.000000</td>\n",
       "      <td>71.25</td>\n",
       "    </tr>\n",
       "    <tr>\n",
       "      <th>2018-01-30 16:00:00</th>\n",
       "      <td>44.25</td>\n",
       "      <td>30.1300</td>\n",
       "      <td>198.500000</td>\n",
       "      <td>38.50</td>\n",
       "      <td>0.000000</td>\n",
       "      <td>81.00</td>\n",
       "      <td>7.777778</td>\n",
       "      <td>64.25</td>\n",
       "    </tr>\n",
       "    <tr>\n",
       "      <th>2018-01-30 20:00:00</th>\n",
       "      <td>41.75</td>\n",
       "      <td>30.1675</td>\n",
       "      <td>192.500000</td>\n",
       "      <td>37.50</td>\n",
       "      <td>0.000000</td>\n",
       "      <td>84.75</td>\n",
       "      <td>6.111111</td>\n",
       "      <td>71.75</td>\n",
       "    </tr>\n",
       "    <tr>\n",
       "      <th>2018-01-31 00:00:00</th>\n",
       "      <td>40.75</td>\n",
       "      <td>30.1925</td>\n",
       "      <td>189.000000</td>\n",
       "      <td>37.50</td>\n",
       "      <td>0.000000</td>\n",
       "      <td>88.00</td>\n",
       "      <td>5.555556</td>\n",
       "      <td>89.50</td>\n",
       "    </tr>\n",
       "  </tbody>\n",
       "</table>\n",
       "</div>"
      ],
      "text/plain": [
       "                      tmpf     alti        drct   dwpf      p01i   relh  \\\n",
       "TS                                                                        \n",
       "2018-01-30 08:00:00  44.00  30.0900  203.333333  40.00  0.003333  86.00   \n",
       "2018-01-30 12:00:00  46.00  30.1050  204.750000  39.75  0.005000  79.00   \n",
       "2018-01-30 16:00:00  44.25  30.1300  198.500000  38.50  0.000000  81.00   \n",
       "2018-01-30 20:00:00  41.75  30.1675  192.500000  37.50  0.000000  84.75   \n",
       "2018-01-31 00:00:00  40.75  30.1925  189.000000  37.50  0.000000  88.00   \n",
       "\n",
       "                          sknt  skyc1  \n",
       "TS                                     \n",
       "2018-01-30 08:00:00  10.000000  68.00  \n",
       "2018-01-30 12:00:00  10.000000  71.25  \n",
       "2018-01-30 16:00:00   7.777778  64.25  \n",
       "2018-01-30 20:00:00   6.111111  71.75  \n",
       "2018-01-31 00:00:00   5.555556  89.50  "
      ]
     },
     "execution_count": 312,
     "metadata": {},
     "output_type": "execute_result"
    }
   ],
   "source": [
    "lst = ['alti','drct','dwpf','p01i','relh','sknt','skyc1']\n",
    "BASE = pd.DataFrame(TEMP.tmpf.resample('4H').mean())\n",
    "\n",
    "for col in lst:\n",
    "    ADD = pd.DataFrame(TEMP[col].resample('4H').mean())\n",
    "    frames = [BASE,ADD]\n",
    "    RDF = pd.concat(frames,axis=1)\n",
    "    BASE = RDF\n",
    "\n",
    "RDF.head()"
   ]
  },
  {
   "cell_type": "code",
   "execution_count": null,
   "metadata": {
    "collapsed": true
   },
   "outputs": [],
   "source": []
  },
  {
   "cell_type": "code",
   "execution_count": 273,
   "metadata": {
    "collapsed": true
   },
   "outputs": [],
   "source": [
    "# Creating pressure gradient"
   ]
  },
  {
   "cell_type": "code",
   "execution_count": 313,
   "metadata": {},
   "outputs": [
    {
     "name": "stderr",
     "output_type": "stream",
     "text": [
      "/Users/eduardodeangelis/anaconda2/envs/python36/lib/python3.6/site-packages/ipykernel_launcher.py:1: FutureWarning: \n",
      ".resample() is now a deferred operation\n",
      "You called diff(...) on this deferred object which materialized it into a series\n",
      "by implicitly taking the mean.  Use .resample(...).mean() instead\n",
      "  \"\"\"Entry point for launching an IPython kernel.\n"
     ]
    }
   ],
   "source": [
    "RDF['psgr'] = pd.DataFrame(RDF['alti'].resample('4H',label='press_gr').diff())"
   ]
  },
  {
   "cell_type": "code",
   "execution_count": 314,
   "metadata": {
    "collapsed": true
   },
   "outputs": [],
   "source": [
    "# resetting the index to take the timestamp out\n",
    "RDF.reset_index(inplace=True)"
   ]
  },
  {
   "cell_type": "code",
   "execution_count": 315,
   "metadata": {},
   "outputs": [],
   "source": [
    "def get_date(ts):\n",
    "    return ts.date()\n",
    "\n",
    "def get_hour(ts):\n",
    "    return ts.hour\n",
    "\n",
    "RDF['date']=RDF['TS'].apply(get_date)\n",
    "RDF['hour']=RDF['TS'].apply(get_hour)"
   ]
  },
  {
   "cell_type": "code",
   "execution_count": 316,
   "metadata": {},
   "outputs": [
    {
     "data": {
      "text/html": [
       "<div>\n",
       "<style scoped>\n",
       "    .dataframe tbody tr th:only-of-type {\n",
       "        vertical-align: middle;\n",
       "    }\n",
       "\n",
       "    .dataframe tbody tr th {\n",
       "        vertical-align: top;\n",
       "    }\n",
       "\n",
       "    .dataframe thead th {\n",
       "        text-align: right;\n",
       "    }\n",
       "</style>\n",
       "<table border=\"1\" class=\"dataframe\">\n",
       "  <thead>\n",
       "    <tr style=\"text-align: right;\">\n",
       "      <th></th>\n",
       "      <th>TS</th>\n",
       "      <th>tmpf</th>\n",
       "      <th>alti</th>\n",
       "      <th>drct</th>\n",
       "      <th>dwpf</th>\n",
       "      <th>p01i</th>\n",
       "      <th>relh</th>\n",
       "      <th>sknt</th>\n",
       "      <th>skyc1</th>\n",
       "      <th>psgr</th>\n",
       "      <th>date</th>\n",
       "      <th>hour</th>\n",
       "    </tr>\n",
       "  </thead>\n",
       "  <tbody>\n",
       "    <tr>\n",
       "      <th>0</th>\n",
       "      <td>2018-01-30 08:00:00</td>\n",
       "      <td>44.00</td>\n",
       "      <td>30.0900</td>\n",
       "      <td>203.333333</td>\n",
       "      <td>40.00</td>\n",
       "      <td>0.003333</td>\n",
       "      <td>86.00</td>\n",
       "      <td>10.000000</td>\n",
       "      <td>68.00</td>\n",
       "      <td>NaN</td>\n",
       "      <td>2018-01-30</td>\n",
       "      <td>8</td>\n",
       "    </tr>\n",
       "    <tr>\n",
       "      <th>1</th>\n",
       "      <td>2018-01-30 12:00:00</td>\n",
       "      <td>46.00</td>\n",
       "      <td>30.1050</td>\n",
       "      <td>204.750000</td>\n",
       "      <td>39.75</td>\n",
       "      <td>0.005000</td>\n",
       "      <td>79.00</td>\n",
       "      <td>10.000000</td>\n",
       "      <td>71.25</td>\n",
       "      <td>0.0150</td>\n",
       "      <td>2018-01-30</td>\n",
       "      <td>12</td>\n",
       "    </tr>\n",
       "    <tr>\n",
       "      <th>2</th>\n",
       "      <td>2018-01-30 16:00:00</td>\n",
       "      <td>44.25</td>\n",
       "      <td>30.1300</td>\n",
       "      <td>198.500000</td>\n",
       "      <td>38.50</td>\n",
       "      <td>0.000000</td>\n",
       "      <td>81.00</td>\n",
       "      <td>7.777778</td>\n",
       "      <td>64.25</td>\n",
       "      <td>0.0250</td>\n",
       "      <td>2018-01-30</td>\n",
       "      <td>16</td>\n",
       "    </tr>\n",
       "    <tr>\n",
       "      <th>3</th>\n",
       "      <td>2018-01-30 20:00:00</td>\n",
       "      <td>41.75</td>\n",
       "      <td>30.1675</td>\n",
       "      <td>192.500000</td>\n",
       "      <td>37.50</td>\n",
       "      <td>0.000000</td>\n",
       "      <td>84.75</td>\n",
       "      <td>6.111111</td>\n",
       "      <td>71.75</td>\n",
       "      <td>0.0375</td>\n",
       "      <td>2018-01-30</td>\n",
       "      <td>20</td>\n",
       "    </tr>\n",
       "    <tr>\n",
       "      <th>4</th>\n",
       "      <td>2018-01-31 00:00:00</td>\n",
       "      <td>40.75</td>\n",
       "      <td>30.1925</td>\n",
       "      <td>189.000000</td>\n",
       "      <td>37.50</td>\n",
       "      <td>0.000000</td>\n",
       "      <td>88.00</td>\n",
       "      <td>5.555556</td>\n",
       "      <td>89.50</td>\n",
       "      <td>0.0250</td>\n",
       "      <td>2018-01-31</td>\n",
       "      <td>0</td>\n",
       "    </tr>\n",
       "  </tbody>\n",
       "</table>\n",
       "</div>"
      ],
      "text/plain": [
       "                   TS   tmpf     alti        drct   dwpf      p01i   relh  \\\n",
       "0 2018-01-30 08:00:00  44.00  30.0900  203.333333  40.00  0.003333  86.00   \n",
       "1 2018-01-30 12:00:00  46.00  30.1050  204.750000  39.75  0.005000  79.00   \n",
       "2 2018-01-30 16:00:00  44.25  30.1300  198.500000  38.50  0.000000  81.00   \n",
       "3 2018-01-30 20:00:00  41.75  30.1675  192.500000  37.50  0.000000  84.75   \n",
       "4 2018-01-31 00:00:00  40.75  30.1925  189.000000  37.50  0.000000  88.00   \n",
       "\n",
       "        sknt  skyc1    psgr        date  hour  \n",
       "0  10.000000  68.00     NaN  2018-01-30     8  \n",
       "1  10.000000  71.25  0.0150  2018-01-30    12  \n",
       "2   7.777778  64.25  0.0250  2018-01-30    16  \n",
       "3   6.111111  71.75  0.0375  2018-01-30    20  \n",
       "4   5.555556  89.50  0.0250  2018-01-31     0  "
      ]
     },
     "execution_count": 316,
     "metadata": {},
     "output_type": "execute_result"
    }
   ],
   "source": [
    "RDF.head()"
   ]
  },
  {
   "cell_type": "code",
   "execution_count": 318,
   "metadata": {},
   "outputs": [],
   "source": [
    "#Getting one row per day - different rows become columns\n",
    "\n",
    "RDF = RDF.pivot_table(index='date', \n",
    "                    columns='hour',\n",
    "                    values=['tmpf','dwpf','relh','drct','sknt','p01i','alti','skyc1','psgr'])"
   ]
  },
  {
   "cell_type": "code",
   "execution_count": 319,
   "metadata": {},
   "outputs": [
    {
     "data": {
      "text/html": [
       "<div>\n",
       "<style scoped>\n",
       "    .dataframe tbody tr th:only-of-type {\n",
       "        vertical-align: middle;\n",
       "    }\n",
       "\n",
       "    .dataframe tbody tr th {\n",
       "        vertical-align: top;\n",
       "    }\n",
       "\n",
       "    .dataframe thead th {\n",
       "        text-align: right;\n",
       "    }\n",
       "</style>\n",
       "<table border=\"1\" class=\"dataframe\">\n",
       "  <thead>\n",
       "    <tr style=\"text-align: right;\">\n",
       "      <th></th>\n",
       "      <th>date</th>\n",
       "      <th>('alti', 0)</th>\n",
       "      <th>('alti', 4)</th>\n",
       "      <th>('alti', 8)</th>\n",
       "      <th>('alti', 12)</th>\n",
       "      <th>('alti', 16)</th>\n",
       "      <th>('alti', 20)</th>\n",
       "      <th>('drct', 0)</th>\n",
       "      <th>('drct', 4)</th>\n",
       "      <th>('drct', 8)</th>\n",
       "      <th>...</th>\n",
       "      <th>('skyc1', 8)</th>\n",
       "      <th>('skyc1', 12)</th>\n",
       "      <th>('skyc1', 16)</th>\n",
       "      <th>('skyc1', 20)</th>\n",
       "      <th>('tmpf', 0)</th>\n",
       "      <th>('tmpf', 4)</th>\n",
       "      <th>('tmpf', 8)</th>\n",
       "      <th>('tmpf', 12)</th>\n",
       "      <th>('tmpf', 16)</th>\n",
       "      <th>('tmpf', 20)</th>\n",
       "    </tr>\n",
       "  </thead>\n",
       "  <tbody>\n",
       "    <tr>\n",
       "      <th>0</th>\n",
       "      <td>2018-01-30</td>\n",
       "      <td>NaN</td>\n",
       "      <td>NaN</td>\n",
       "      <td>30.0900</td>\n",
       "      <td>30.105</td>\n",
       "      <td>30.1300</td>\n",
       "      <td>30.1675</td>\n",
       "      <td>NaN</td>\n",
       "      <td>NaN</td>\n",
       "      <td>203.333333</td>\n",
       "      <td>...</td>\n",
       "      <td>68.0</td>\n",
       "      <td>71.25</td>\n",
       "      <td>64.25</td>\n",
       "      <td>71.75</td>\n",
       "      <td>NaN</td>\n",
       "      <td>NaN</td>\n",
       "      <td>44.00</td>\n",
       "      <td>46.0</td>\n",
       "      <td>44.25</td>\n",
       "      <td>41.75</td>\n",
       "    </tr>\n",
       "    <tr>\n",
       "      <th>1</th>\n",
       "      <td>2018-01-31</td>\n",
       "      <td>30.1925</td>\n",
       "      <td>30.21</td>\n",
       "      <td>30.2225</td>\n",
       "      <td>30.210</td>\n",
       "      <td>30.1975</td>\n",
       "      <td>30.2000</td>\n",
       "      <td>189.0</td>\n",
       "      <td>175.75</td>\n",
       "      <td>168.000000</td>\n",
       "      <td>...</td>\n",
       "      <td>96.0</td>\n",
       "      <td>97.75</td>\n",
       "      <td>98.75</td>\n",
       "      <td>99.00</td>\n",
       "      <td>40.75</td>\n",
       "      <td>40.25</td>\n",
       "      <td>41.75</td>\n",
       "      <td>44.0</td>\n",
       "      <td>43.50</td>\n",
       "      <td>43.00</td>\n",
       "    </tr>\n",
       "  </tbody>\n",
       "</table>\n",
       "<p>2 rows × 55 columns</p>\n",
       "</div>"
      ],
      "text/plain": [
       "         date  ('alti', 0)  ('alti', 4)  ('alti', 8)  ('alti', 12)  \\\n",
       "0  2018-01-30          NaN          NaN      30.0900        30.105   \n",
       "1  2018-01-31      30.1925        30.21      30.2225        30.210   \n",
       "\n",
       "   ('alti', 16)  ('alti', 20)  ('drct', 0)  ('drct', 4)  ('drct', 8)  \\\n",
       "0       30.1300       30.1675          NaN          NaN   203.333333   \n",
       "1       30.1975       30.2000        189.0       175.75   168.000000   \n",
       "\n",
       "       ...       ('skyc1', 8)  ('skyc1', 12)  ('skyc1', 16)  ('skyc1', 20)  \\\n",
       "0      ...               68.0          71.25          64.25          71.75   \n",
       "1      ...               96.0          97.75          98.75          99.00   \n",
       "\n",
       "   ('tmpf', 0)  ('tmpf', 4)  ('tmpf', 8)  ('tmpf', 12)  ('tmpf', 16)  \\\n",
       "0          NaN          NaN        44.00          46.0         44.25   \n",
       "1        40.75        40.25        41.75          44.0         43.50   \n",
       "\n",
       "   ('tmpf', 20)  \n",
       "0         41.75  \n",
       "1         43.00  \n",
       "\n",
       "[2 rows x 55 columns]"
      ]
     },
     "execution_count": 319,
     "metadata": {},
     "output_type": "execute_result"
    }
   ],
   "source": [
    "#Flattening the multindex\n",
    "RDF = pd.DataFrame(RDF.to_records())\n",
    "RDF.head()"
   ]
  },
  {
   "cell_type": "code",
   "execution_count": 320,
   "metadata": {
    "collapsed": true
   },
   "outputs": [],
   "source": [
    "mi = RDF.columns\n",
    "mi = list(mi)\n",
    "mi = mi[1:] #removing 'date' to make it easier"
   ]
  },
  {
   "cell_type": "code",
   "execution_count": 321,
   "metadata": {},
   "outputs": [],
   "source": [
    "words = re.findall('(\\w{4,10})', str(mi))\n",
    "# hours = re.findall('\\d{1,2}',str(mi))\n",
    "hours = ['0','4','8','12','16','20'] * len(words)\n",
    "idx = [w + '_' + h for w,h in zip(words,hours)]\n",
    "idx = ['date']+idx"
   ]
  },
  {
   "cell_type": "code",
   "execution_count": 322,
   "metadata": {
    "collapsed": true
   },
   "outputs": [],
   "source": [
    "RDF.columns = idx"
   ]
  },
  {
   "cell_type": "code",
   "execution_count": 323,
   "metadata": {
    "collapsed": true
   },
   "outputs": [],
   "source": [
    "for col in idx:\n",
    "    RDF[col]= RDF[col].interpolate(method='linear', axis=0).ffill().bfill()"
   ]
  },
  {
   "cell_type": "code",
   "execution_count": 324,
   "metadata": {},
   "outputs": [
    {
     "data": {
      "text/html": [
       "<div>\n",
       "<style scoped>\n",
       "    .dataframe tbody tr th:only-of-type {\n",
       "        vertical-align: middle;\n",
       "    }\n",
       "\n",
       "    .dataframe tbody tr th {\n",
       "        vertical-align: top;\n",
       "    }\n",
       "\n",
       "    .dataframe thead th {\n",
       "        text-align: right;\n",
       "    }\n",
       "</style>\n",
       "<table border=\"1\" class=\"dataframe\">\n",
       "  <thead>\n",
       "    <tr style=\"text-align: right;\">\n",
       "      <th></th>\n",
       "      <th>date</th>\n",
       "      <th>alti_0</th>\n",
       "      <th>alti_4</th>\n",
       "      <th>alti_8</th>\n",
       "      <th>alti_12</th>\n",
       "      <th>alti_16</th>\n",
       "      <th>alti_20</th>\n",
       "      <th>drct_0</th>\n",
       "      <th>drct_4</th>\n",
       "      <th>drct_8</th>\n",
       "      <th>...</th>\n",
       "      <th>skyc1_8</th>\n",
       "      <th>skyc1_12</th>\n",
       "      <th>skyc1_16</th>\n",
       "      <th>skyc1_20</th>\n",
       "      <th>tmpf_0</th>\n",
       "      <th>tmpf_4</th>\n",
       "      <th>tmpf_8</th>\n",
       "      <th>tmpf_12</th>\n",
       "      <th>tmpf_16</th>\n",
       "      <th>tmpf_20</th>\n",
       "    </tr>\n",
       "  </thead>\n",
       "  <tbody>\n",
       "    <tr>\n",
       "      <th>0</th>\n",
       "      <td>2018-01-30</td>\n",
       "      <td>30.1925</td>\n",
       "      <td>30.21</td>\n",
       "      <td>30.0900</td>\n",
       "      <td>30.105</td>\n",
       "      <td>30.1300</td>\n",
       "      <td>30.1675</td>\n",
       "      <td>189.0</td>\n",
       "      <td>175.75</td>\n",
       "      <td>203.333333</td>\n",
       "      <td>...</td>\n",
       "      <td>68.0</td>\n",
       "      <td>71.25</td>\n",
       "      <td>64.25</td>\n",
       "      <td>71.75</td>\n",
       "      <td>40.75</td>\n",
       "      <td>40.25</td>\n",
       "      <td>44.00</td>\n",
       "      <td>46.0</td>\n",
       "      <td>44.25</td>\n",
       "      <td>41.75</td>\n",
       "    </tr>\n",
       "    <tr>\n",
       "      <th>1</th>\n",
       "      <td>2018-01-31</td>\n",
       "      <td>30.1925</td>\n",
       "      <td>30.21</td>\n",
       "      <td>30.2225</td>\n",
       "      <td>30.210</td>\n",
       "      <td>30.1975</td>\n",
       "      <td>30.2000</td>\n",
       "      <td>189.0</td>\n",
       "      <td>175.75</td>\n",
       "      <td>168.000000</td>\n",
       "      <td>...</td>\n",
       "      <td>96.0</td>\n",
       "      <td>97.75</td>\n",
       "      <td>98.75</td>\n",
       "      <td>99.00</td>\n",
       "      <td>40.75</td>\n",
       "      <td>40.25</td>\n",
       "      <td>41.75</td>\n",
       "      <td>44.0</td>\n",
       "      <td>43.50</td>\n",
       "      <td>43.00</td>\n",
       "    </tr>\n",
       "  </tbody>\n",
       "</table>\n",
       "<p>2 rows × 55 columns</p>\n",
       "</div>"
      ],
      "text/plain": [
       "         date   alti_0  alti_4   alti_8  alti_12  alti_16  alti_20  drct_0  \\\n",
       "0  2018-01-30  30.1925   30.21  30.0900   30.105  30.1300  30.1675   189.0   \n",
       "1  2018-01-31  30.1925   30.21  30.2225   30.210  30.1975  30.2000   189.0   \n",
       "\n",
       "   drct_4      drct_8   ...     skyc1_8  skyc1_12  skyc1_16  skyc1_20  tmpf_0  \\\n",
       "0  175.75  203.333333   ...        68.0     71.25     64.25     71.75   40.75   \n",
       "1  175.75  168.000000   ...        96.0     97.75     98.75     99.00   40.75   \n",
       "\n",
       "   tmpf_4  tmpf_8  tmpf_12  tmpf_16  tmpf_20  \n",
       "0   40.25   44.00     46.0    44.25    41.75  \n",
       "1   40.25   41.75     44.0    43.50    43.00  \n",
       "\n",
       "[2 rows x 55 columns]"
      ]
     },
     "execution_count": 324,
     "metadata": {},
     "output_type": "execute_result"
    }
   ],
   "source": [
    "RDF.head()"
   ]
  },
  {
   "cell_type": "code",
   "execution_count": 293,
   "metadata": {
    "collapsed": true
   },
   "outputs": [],
   "source": [
    "# transforming wind direction\n",
    "\n",
    "def get_cos(direction):\n",
    "    return (cos(radians(direction)))**2"
   ]
  },
  {
   "cell_type": "code",
   "execution_count": 325,
   "metadata": {},
   "outputs": [],
   "source": [
    "direction = ['drct_0', 'drct_4', 'drct_8', 'drct_12', 'drct_16', 'drct_20']\n",
    "\n",
    "for col in direction:\n",
    "    RDF[col]=RDF[col].apply(get_cos)"
   ]
  },
  {
   "cell_type": "code",
   "execution_count": 326,
   "metadata": {},
   "outputs": [
    {
     "data": {
      "text/html": [
       "<div>\n",
       "<style scoped>\n",
       "    .dataframe tbody tr th:only-of-type {\n",
       "        vertical-align: middle;\n",
       "    }\n",
       "\n",
       "    .dataframe tbody tr th {\n",
       "        vertical-align: top;\n",
       "    }\n",
       "\n",
       "    .dataframe thead th {\n",
       "        text-align: right;\n",
       "    }\n",
       "</style>\n",
       "<table border=\"1\" class=\"dataframe\">\n",
       "  <thead>\n",
       "    <tr style=\"text-align: right;\">\n",
       "      <th></th>\n",
       "      <th>date</th>\n",
       "      <th>alti_0</th>\n",
       "      <th>alti_4</th>\n",
       "      <th>alti_8</th>\n",
       "      <th>alti_12</th>\n",
       "      <th>alti_16</th>\n",
       "      <th>alti_20</th>\n",
       "      <th>drct_0</th>\n",
       "      <th>drct_4</th>\n",
       "      <th>drct_8</th>\n",
       "      <th>...</th>\n",
       "      <th>skyc1_8</th>\n",
       "      <th>skyc1_12</th>\n",
       "      <th>skyc1_16</th>\n",
       "      <th>skyc1_20</th>\n",
       "      <th>tmpf_0</th>\n",
       "      <th>tmpf_4</th>\n",
       "      <th>tmpf_8</th>\n",
       "      <th>tmpf_12</th>\n",
       "      <th>tmpf_16</th>\n",
       "      <th>tmpf_20</th>\n",
       "    </tr>\n",
       "  </thead>\n",
       "  <tbody>\n",
       "    <tr>\n",
       "      <th>0</th>\n",
       "      <td>2018-01-30</td>\n",
       "      <td>30.1925</td>\n",
       "      <td>30.21</td>\n",
       "      <td>30.0900</td>\n",
       "      <td>30.105</td>\n",
       "      <td>30.1300</td>\n",
       "      <td>30.1675</td>\n",
       "      <td>0.975528</td>\n",
       "      <td>0.994508</td>\n",
       "      <td>0.843121</td>\n",
       "      <td>...</td>\n",
       "      <td>68.0</td>\n",
       "      <td>71.25</td>\n",
       "      <td>64.25</td>\n",
       "      <td>71.75</td>\n",
       "      <td>40.75</td>\n",
       "      <td>40.25</td>\n",
       "      <td>44.00</td>\n",
       "      <td>46.0</td>\n",
       "      <td>44.25</td>\n",
       "      <td>41.75</td>\n",
       "    </tr>\n",
       "    <tr>\n",
       "      <th>1</th>\n",
       "      <td>2018-01-31</td>\n",
       "      <td>30.1925</td>\n",
       "      <td>30.21</td>\n",
       "      <td>30.2225</td>\n",
       "      <td>30.210</td>\n",
       "      <td>30.1975</td>\n",
       "      <td>30.2000</td>\n",
       "      <td>0.975528</td>\n",
       "      <td>0.994508</td>\n",
       "      <td>0.956773</td>\n",
       "      <td>...</td>\n",
       "      <td>96.0</td>\n",
       "      <td>97.75</td>\n",
       "      <td>98.75</td>\n",
       "      <td>99.00</td>\n",
       "      <td>40.75</td>\n",
       "      <td>40.25</td>\n",
       "      <td>41.75</td>\n",
       "      <td>44.0</td>\n",
       "      <td>43.50</td>\n",
       "      <td>43.00</td>\n",
       "    </tr>\n",
       "  </tbody>\n",
       "</table>\n",
       "<p>2 rows × 55 columns</p>\n",
       "</div>"
      ],
      "text/plain": [
       "         date   alti_0  alti_4   alti_8  alti_12  alti_16  alti_20    drct_0  \\\n",
       "0  2018-01-30  30.1925   30.21  30.0900   30.105  30.1300  30.1675  0.975528   \n",
       "1  2018-01-31  30.1925   30.21  30.2225   30.210  30.1975  30.2000  0.975528   \n",
       "\n",
       "     drct_4    drct_8   ...     skyc1_8  skyc1_12  skyc1_16  skyc1_20  tmpf_0  \\\n",
       "0  0.994508  0.843121   ...        68.0     71.25     64.25     71.75   40.75   \n",
       "1  0.994508  0.956773   ...        96.0     97.75     98.75     99.00   40.75   \n",
       "\n",
       "   tmpf_4  tmpf_8  tmpf_12  tmpf_16  tmpf_20  \n",
       "0   40.25   44.00     46.0    44.25    41.75  \n",
       "1   40.25   41.75     44.0    43.50    43.00  \n",
       "\n",
       "[2 rows x 55 columns]"
      ]
     },
     "execution_count": 326,
     "metadata": {},
     "output_type": "execute_result"
    }
   ],
   "source": [
    "RDF.head()"
   ]
  },
  {
   "cell_type": "code",
   "execution_count": 346,
   "metadata": {},
   "outputs": [],
   "source": [
    "RDF = pd.concat([RDF]*3, ignore_index=True)"
   ]
  },
  {
   "cell_type": "code",
   "execution_count": 356,
   "metadata": {},
   "outputs": [],
   "source": [
    "RDF['overall_rank_0']=0\n",
    "RDF['overall_rank_1']=0\n",
    "RDF['overall_rank_2']=0\n",
    "RDF['overall_rank_0'][0]=1\n",
    "RDF['overall_rank_0'][3]=1\n",
    "RDF['overall_rank_1'][1]=1\n",
    "RDF['overall_rank_1'][4]=1\n",
    "RDF['overall_rank_2'][2]=1\n",
    "RDF['overall_rank_2'][5]=1"
   ]
  },
  {
   "cell_type": "markdown",
   "metadata": {},
   "source": [
    "### Function to get it all done in one step"
   ]
  },
  {
   "cell_type": "code",
   "execution_count": 387,
   "metadata": {},
   "outputs": [],
   "source": [
    "def get_ready(api_forecast):\n",
    "    \n",
    "    '''Input: jspn response from API (.content)\n",
    "       Ouput: DF ready to be used for predictions'''\n",
    "    \n",
    "    prediction = json.loads(api_forecast)\n",
    "    output = []\n",
    "    for item in prediction['hourly_forecast']:\n",
    "        output.append({'epoch':item['FCTTIME']['epoch'],\n",
    "                   'hour':item['FCTTIME']['hour'],\n",
    "                    'alti':item['mslp']['english'],\n",
    "                    'drct': item['wdir']['degrees'],\n",
    "                    'dwpf': item['dewpoint']['english'],\n",
    "                    'p01i' : item ['qpf']['english'],\n",
    "                    'relh':item ['humidity'],\n",
    "                    'sknt':int(item['wspd']['metric'])/1.8 ,\n",
    "                    'skyc1':item['sky'],\n",
    "                    'tmpf':item['temp']['english']})\n",
    "    TEMP = pd.DataFrame(output, columns = ['epoch','hour','alti','drct','dwpf','p01i','relh','sknt','skyc1',\n",
    "                                           'psgr','tmpf'])\n",
    "    TEMP['TS'] = TEMP['epoch'].apply(ts)\n",
    "    TEMP['TS'] = pd.to_datetime(TEMP['TS'])\n",
    "    \n",
    "    # Assigning as index\n",
    "    TEMP.set_index('TS',inplace=True)\n",
    "    \n",
    "    # converting strings to numbers\n",
    "    lst = ['alti','drct','dwpf','p01i','relh','sknt','skyc1','tmpf']\n",
    "    for col in lst:\n",
    "        TEMP[col] = TEMP[col].apply(pd.to_numeric, errors='coerce')\n",
    "    \n",
    "    # Aggregating in 4h periods\n",
    "    lst = ['alti','drct','dwpf','p01i','relh','sknt','skyc1']\n",
    "    BASE = pd.DataFrame(TEMP.tmpf.resample('4H').mean())\n",
    "    for col in lst:\n",
    "        ADD = pd.DataFrame(TEMP[col].resample('4H').mean())\n",
    "        frames = [BASE,ADD]\n",
    "        RDF = pd.concat(frames,axis=1)\n",
    "        BASE = RDF\n",
    "    \n",
    "    # Creating pressure gradient\n",
    "    RDF['psgr'] = pd.DataFrame(RDF['alti'].resample('4H',label='press_gr').diff())\n",
    "    \n",
    "    # resetting the index to take the timestamp out\n",
    "    RDF.reset_index(inplace=True)\n",
    "    \n",
    "    #creating date and hore columns\n",
    "    RDF['date']=RDF['TS'].apply(get_date)\n",
    "    RDF['hour']=RDF['TS'].apply(get_hour)\n",
    "    \n",
    "    #Getting one row per day - different rows become columns\n",
    "    RDF = RDF.pivot_table(index='date', \n",
    "                    columns='hour',\n",
    "                    values=['tmpf','dwpf','relh','drct','sknt','p01i','alti','skyc1','psgr'])\n",
    "    #Flattening the multindex\n",
    "    RDF = pd.DataFrame(RDF.to_records())\n",
    "    \n",
    "    #removing 'date' to make it easier\n",
    "    mi = RDF.columns\n",
    "    mi = list(mi)\n",
    "    mi = mi[1:]\n",
    "    \n",
    "    # putting names in the same format as the model\n",
    "    words = re.findall('(\\w{4,10})', str(mi))\n",
    "    hours = ['0','4','8','12','16','20'] * len(words)\n",
    "    idx = [w + '_' + h for w,h in zip(words,hours)]\n",
    "    idx = ['date']+idx\n",
    "    RDF.columns = idx\n",
    "    \n",
    "    # filling holes\n",
    "    for col in idx:\n",
    "        RDF[col]= RDF[col].interpolate(method='linear', axis=0).ffill().bfill()\n",
    "    \n",
    "    # transforming wind direction\n",
    "    direction = ['drct_0', 'drct_4', 'drct_8', 'drct_12', 'drct_16', 'drct_20']\n",
    "\n",
    "    for col in direction:\n",
    "        RDF[col]=RDF[col].apply(get_cos)\n",
    "        \n",
    "    #creatinf fiels for pilot rank\n",
    "    RDF = pd.concat([RDF]*3, ignore_index=True)\n",
    "    RDF['overall_rank_0']=0\n",
    "    RDF['overall_rank_1']=0\n",
    "    RDF['overall_rank_2']=0\n",
    "    RDF['overall_rank_0'][0]=1\n",
    "    RDF['overall_rank_0'][3]=1\n",
    "    RDF['overall_rank_1'][1]=1\n",
    "    RDF['overall_rank_1'][4]=1\n",
    "    RDF['overall_rank_2'][2]=1\n",
    "    RDF['overall_rank_2'][5]=1\n",
    "    \n",
    "    return RDF\n",
    "    \n",
    "    \n",
    "        \n",
    "def get_date(ts):\n",
    "    return ts.date()\n",
    "\n",
    "def get_hour(ts):\n",
    "    return ts.hour\n",
    "        \n",
    "# create timespamp\n",
    "def ts(epoch):\n",
    "    return datetime.fromtimestamp(int(epoch)).strftime('%Y-%m-%d %H:%M:%S')\n",
    " \n",
    "\n",
    "def get_cos(direction):\n",
    "    return (cos(radians(direction)))**2\n"
   ]
  },
  {
   "cell_type": "code",
   "execution_count": 388,
   "metadata": {},
   "outputs": [
    {
     "data": {
      "text/html": [
       "<div>\n",
       "<style scoped>\n",
       "    .dataframe tbody tr th:only-of-type {\n",
       "        vertical-align: middle;\n",
       "    }\n",
       "\n",
       "    .dataframe tbody tr th {\n",
       "        vertical-align: top;\n",
       "    }\n",
       "\n",
       "    .dataframe thead th {\n",
       "        text-align: right;\n",
       "    }\n",
       "</style>\n",
       "<table border=\"1\" class=\"dataframe\">\n",
       "  <thead>\n",
       "    <tr style=\"text-align: right;\">\n",
       "      <th></th>\n",
       "      <th>date</th>\n",
       "      <th>alti_0</th>\n",
       "      <th>alti_4</th>\n",
       "      <th>alti_8</th>\n",
       "      <th>alti_12</th>\n",
       "      <th>alti_16</th>\n",
       "      <th>alti_20</th>\n",
       "      <th>drct_0</th>\n",
       "      <th>drct_4</th>\n",
       "      <th>drct_8</th>\n",
       "      <th>...</th>\n",
       "      <th>skyc1_20</th>\n",
       "      <th>tmpf_0</th>\n",
       "      <th>tmpf_4</th>\n",
       "      <th>tmpf_8</th>\n",
       "      <th>tmpf_12</th>\n",
       "      <th>tmpf_16</th>\n",
       "      <th>tmpf_20</th>\n",
       "      <th>overall_rank_0</th>\n",
       "      <th>overall_rank_1</th>\n",
       "      <th>overall_rank_2</th>\n",
       "    </tr>\n",
       "  </thead>\n",
       "  <tbody>\n",
       "    <tr>\n",
       "      <th>0</th>\n",
       "      <td>2018-01-30</td>\n",
       "      <td>30.1925</td>\n",
       "      <td>30.21</td>\n",
       "      <td>30.0900</td>\n",
       "      <td>30.105</td>\n",
       "      <td>30.1300</td>\n",
       "      <td>30.1675</td>\n",
       "      <td>0.975528</td>\n",
       "      <td>0.994508</td>\n",
       "      <td>0.843121</td>\n",
       "      <td>...</td>\n",
       "      <td>71.75</td>\n",
       "      <td>40.75</td>\n",
       "      <td>40.25</td>\n",
       "      <td>44.00</td>\n",
       "      <td>46.0</td>\n",
       "      <td>44.25</td>\n",
       "      <td>41.75</td>\n",
       "      <td>1</td>\n",
       "      <td>0</td>\n",
       "      <td>0</td>\n",
       "    </tr>\n",
       "    <tr>\n",
       "      <th>1</th>\n",
       "      <td>2018-01-31</td>\n",
       "      <td>30.1925</td>\n",
       "      <td>30.21</td>\n",
       "      <td>30.2225</td>\n",
       "      <td>30.210</td>\n",
       "      <td>30.1975</td>\n",
       "      <td>30.2000</td>\n",
       "      <td>0.975528</td>\n",
       "      <td>0.994508</td>\n",
       "      <td>0.956773</td>\n",
       "      <td>...</td>\n",
       "      <td>99.00</td>\n",
       "      <td>40.75</td>\n",
       "      <td>40.25</td>\n",
       "      <td>41.75</td>\n",
       "      <td>44.0</td>\n",
       "      <td>43.50</td>\n",
       "      <td>43.00</td>\n",
       "      <td>0</td>\n",
       "      <td>1</td>\n",
       "      <td>0</td>\n",
       "    </tr>\n",
       "    <tr>\n",
       "      <th>2</th>\n",
       "      <td>2018-01-30</td>\n",
       "      <td>30.1925</td>\n",
       "      <td>30.21</td>\n",
       "      <td>30.0900</td>\n",
       "      <td>30.105</td>\n",
       "      <td>30.1300</td>\n",
       "      <td>30.1675</td>\n",
       "      <td>0.975528</td>\n",
       "      <td>0.994508</td>\n",
       "      <td>0.843121</td>\n",
       "      <td>...</td>\n",
       "      <td>71.75</td>\n",
       "      <td>40.75</td>\n",
       "      <td>40.25</td>\n",
       "      <td>44.00</td>\n",
       "      <td>46.0</td>\n",
       "      <td>44.25</td>\n",
       "      <td>41.75</td>\n",
       "      <td>0</td>\n",
       "      <td>0</td>\n",
       "      <td>1</td>\n",
       "    </tr>\n",
       "    <tr>\n",
       "      <th>3</th>\n",
       "      <td>2018-01-31</td>\n",
       "      <td>30.1925</td>\n",
       "      <td>30.21</td>\n",
       "      <td>30.2225</td>\n",
       "      <td>30.210</td>\n",
       "      <td>30.1975</td>\n",
       "      <td>30.2000</td>\n",
       "      <td>0.975528</td>\n",
       "      <td>0.994508</td>\n",
       "      <td>0.956773</td>\n",
       "      <td>...</td>\n",
       "      <td>99.00</td>\n",
       "      <td>40.75</td>\n",
       "      <td>40.25</td>\n",
       "      <td>41.75</td>\n",
       "      <td>44.0</td>\n",
       "      <td>43.50</td>\n",
       "      <td>43.00</td>\n",
       "      <td>1</td>\n",
       "      <td>0</td>\n",
       "      <td>0</td>\n",
       "    </tr>\n",
       "    <tr>\n",
       "      <th>4</th>\n",
       "      <td>2018-01-30</td>\n",
       "      <td>30.1925</td>\n",
       "      <td>30.21</td>\n",
       "      <td>30.0900</td>\n",
       "      <td>30.105</td>\n",
       "      <td>30.1300</td>\n",
       "      <td>30.1675</td>\n",
       "      <td>0.975528</td>\n",
       "      <td>0.994508</td>\n",
       "      <td>0.843121</td>\n",
       "      <td>...</td>\n",
       "      <td>71.75</td>\n",
       "      <td>40.75</td>\n",
       "      <td>40.25</td>\n",
       "      <td>44.00</td>\n",
       "      <td>46.0</td>\n",
       "      <td>44.25</td>\n",
       "      <td>41.75</td>\n",
       "      <td>0</td>\n",
       "      <td>1</td>\n",
       "      <td>0</td>\n",
       "    </tr>\n",
       "    <tr>\n",
       "      <th>5</th>\n",
       "      <td>2018-01-31</td>\n",
       "      <td>30.1925</td>\n",
       "      <td>30.21</td>\n",
       "      <td>30.2225</td>\n",
       "      <td>30.210</td>\n",
       "      <td>30.1975</td>\n",
       "      <td>30.2000</td>\n",
       "      <td>0.975528</td>\n",
       "      <td>0.994508</td>\n",
       "      <td>0.956773</td>\n",
       "      <td>...</td>\n",
       "      <td>99.00</td>\n",
       "      <td>40.75</td>\n",
       "      <td>40.25</td>\n",
       "      <td>41.75</td>\n",
       "      <td>44.0</td>\n",
       "      <td>43.50</td>\n",
       "      <td>43.00</td>\n",
       "      <td>0</td>\n",
       "      <td>0</td>\n",
       "      <td>1</td>\n",
       "    </tr>\n",
       "  </tbody>\n",
       "</table>\n",
       "<p>6 rows × 58 columns</p>\n",
       "</div>"
      ],
      "text/plain": [
       "         date   alti_0  alti_4   alti_8  alti_12  alti_16  alti_20    drct_0  \\\n",
       "0  2018-01-30  30.1925   30.21  30.0900   30.105  30.1300  30.1675  0.975528   \n",
       "1  2018-01-31  30.1925   30.21  30.2225   30.210  30.1975  30.2000  0.975528   \n",
       "2  2018-01-30  30.1925   30.21  30.0900   30.105  30.1300  30.1675  0.975528   \n",
       "3  2018-01-31  30.1925   30.21  30.2225   30.210  30.1975  30.2000  0.975528   \n",
       "4  2018-01-30  30.1925   30.21  30.0900   30.105  30.1300  30.1675  0.975528   \n",
       "5  2018-01-31  30.1925   30.21  30.2225   30.210  30.1975  30.2000  0.975528   \n",
       "\n",
       "     drct_4    drct_8       ...        skyc1_20  tmpf_0  tmpf_4  tmpf_8  \\\n",
       "0  0.994508  0.843121       ...           71.75   40.75   40.25   44.00   \n",
       "1  0.994508  0.956773       ...           99.00   40.75   40.25   41.75   \n",
       "2  0.994508  0.843121       ...           71.75   40.75   40.25   44.00   \n",
       "3  0.994508  0.956773       ...           99.00   40.75   40.25   41.75   \n",
       "4  0.994508  0.843121       ...           71.75   40.75   40.25   44.00   \n",
       "5  0.994508  0.956773       ...           99.00   40.75   40.25   41.75   \n",
       "\n",
       "   tmpf_12  tmpf_16  tmpf_20  overall_rank_0  overall_rank_1  overall_rank_2  \n",
       "0     46.0    44.25    41.75               1               0               0  \n",
       "1     44.0    43.50    43.00               0               1               0  \n",
       "2     46.0    44.25    41.75               0               0               1  \n",
       "3     44.0    43.50    43.00               1               0               0  \n",
       "4     46.0    44.25    41.75               0               1               0  \n",
       "5     44.0    43.50    43.00               0               0               1  \n",
       "\n",
       "[6 rows x 58 columns]"
      ]
     },
     "execution_count": 388,
     "metadata": {},
     "output_type": "execute_result"
    }
   ],
   "source": [
    "get_ready(hourly.content)"
   ]
  },
  {
   "cell_type": "markdown",
   "metadata": {},
   "source": [
    "### Testing new predictions\n",
    "### Loading the model"
   ]
  },
  {
   "cell_type": "code",
   "execution_count": 339,
   "metadata": {
    "collapsed": true
   },
   "outputs": [],
   "source": [
    "from sklearn.ensemble import RandomForestClassifier,RandomForestRegressor\n",
    "from sklearn.model_selection import GridSearchCV, train_test_split\n",
    "from sklearn.metrics import mean_squared_error,r2_score"
   ]
  },
  {
   "cell_type": "code",
   "execution_count": 332,
   "metadata": {
    "collapsed": true
   },
   "outputs": [],
   "source": [
    "conn = psycopg2.connect(\"dbname = soaring_predictor\")\n",
    "data = pd.read_sql('SELECT * from data;', conn)"
   ]
  },
  {
   "cell_type": "code",
   "execution_count": 363,
   "metadata": {},
   "outputs": [],
   "source": [
    "features = ['overall_rank_0','overall_rank_1', 'overall_rank_2', \n",
    "            'alti_0', 'alti_4', 'alti_8', 'alti_12', 'alti_16',\n",
    "            'drct_0', 'drct_4', 'drct_8', 'drct_12', 'drct_16',\n",
    "            'dwpf_0', 'dwpf_4', 'dwpf_8', 'dwpf_12', 'dwpf_16',\n",
    "            'p01i_0', 'p01i_4', 'p01i_8', 'p01i_12', 'p01i_16',\n",
    "            'relh_0', 'relh_4', 'relh_8', 'relh_12', 'relh_16',\n",
    "            'sknt_0', 'sknt_4', 'sknt_8', 'sknt_12', 'sknt_16',\n",
    "            'skyc1_0', 'skyc1_4', 'skyc1_8', 'skyc1_12', 'skyc1_16',\n",
    "            'psgr_0', 'psgr_4', 'psgr_8', 'psgr_12', 'psgr_16',\n",
    "            'tmpf_0', 'tmpf_4', 'tmpf_8', 'tmpf_12', 'tmpf_16']"
   ]
  },
  {
   "cell_type": "code",
   "execution_count": 364,
   "metadata": {
    "collapsed": true
   },
   "outputs": [],
   "source": [
    "X = data[features]\n",
    "y = data['left_perimeter']"
   ]
  },
  {
   "cell_type": "code",
   "execution_count": 371,
   "metadata": {},
   "outputs": [],
   "source": [
    "paramGD = {'max_depth': 3,\n",
    " 'max_features': 9,\n",
    " 'min_samples_leaf': 5,\n",
    " 'min_samples_split': 5,\n",
    " 'n_estimators': 100,\n",
    " 'n_jobs': -1}\n",
    "\n",
    "paramMA = {'max_depth': 9,\n",
    " 'max_features': 12,\n",
    " 'min_samples_leaf': 3,\n",
    " 'min_samples_split': 3,\n",
    " 'n_estimators': 100,\n",
    " 'n_jobs': -1}\n",
    "\n",
    "paramXC = {'max_depth': 3,\n",
    " 'max_features': 10,\n",
    " 'min_samples_leaf': 3,\n",
    " 'min_samples_split': 5,\n",
    " 'n_estimators': 100,\n",
    " 'n_jobs': -1}"
   ]
  },
  {
   "cell_type": "code",
   "execution_count": 366,
   "metadata": {
    "collapsed": true
   },
   "outputs": [],
   "source": [
    "X_train,X_test,y_train,y_test = train_test_split(X,y)"
   ]
  },
  {
   "cell_type": "code",
   "execution_count": 373,
   "metadata": {},
   "outputs": [
    {
     "name": "stdout",
     "output_type": "stream",
     "text": [
      "sq mean sq error: 284.1131432004479\n",
      "R sq : 0.42672659132732327\n"
     ]
    }
   ],
   "source": [
    "y = data['max_alt']\n",
    "X_train,X_test,y_train,y_test = train_test_split(X,y)\n",
    "MA= RandomForestRegressor(**paramMA).fit(X_train,y_train)\n",
    "predictions =MA.predict(X_test)\n",
    "print('sq mean sq error: {}'.format( mean_squared_error(y_test,predictions)**0.5))\n",
    "print('R sq : {}'.format( r2_score(y_test,predictions)))"
   ]
  },
  {
   "cell_type": "code",
   "execution_count": 374,
   "metadata": {},
   "outputs": [
    {
     "name": "stdout",
     "output_type": "stream",
     "text": [
      "Accuracy : 0.7520064205457464\n"
     ]
    }
   ],
   "source": [
    "y = data['left_perimeter']\n",
    "X_train,X_test,y_train,y_test = train_test_split(X,y)\n",
    "GD= RandomForestClassifier(**paramGD).fit(X_train,y_train)\n",
    "predictions = GD.predict(X_test)\n",
    "# print('sq mean sq error: {}'.format( mean_squared_error(y_test,predictions)**0.5))\n",
    "print('Accuracy : {}'.format(GD.score(X_test,y_test)))"
   ]
  },
  {
   "cell_type": "code",
   "execution_count": 375,
   "metadata": {},
   "outputs": [
    {
     "name": "stdout",
     "output_type": "stream",
     "text": [
      "Accuracy : 0.7014446227929374\n"
     ]
    }
   ],
   "source": [
    "y = data['XC']\n",
    "X_train,X_test,y_train,y_test = train_test_split(X,y)\n",
    "XC= RandomForestClassifier(**paramXC).fit(X_train,y_train)\n",
    "predictions = XC.predict(X_test)\n",
    "# print('sq mean sq error: {}'.format( mean_squared_error(y_test,predictions)**0.5))\n",
    "print('Accuracy : {}'.format(XC.score(X_test,y_test)))"
   ]
  },
  {
   "cell_type": "markdown",
   "metadata": {},
   "source": [
    "### Making the predictions"
   ]
  },
  {
   "cell_type": "code",
   "execution_count": 376,
   "metadata": {
    "collapsed": true
   },
   "outputs": [],
   "source": [
    "x= RDF[features]"
   ]
  },
  {
   "cell_type": "code",
   "execution_count": 392,
   "metadata": {},
   "outputs": [
    {
     "data": {
      "text/plain": [
       "array([1, 0, 1, 1, 0, 0])"
      ]
     },
     "execution_count": 392,
     "metadata": {},
     "output_type": "execute_result"
    }
   ],
   "source": [
    "GD.predict(x)"
   ]
  },
  {
   "cell_type": "code",
   "execution_count": null,
   "metadata": {
    "collapsed": true
   },
   "outputs": [],
   "source": []
  },
  {
   "cell_type": "code",
   "execution_count": null,
   "metadata": {
    "collapsed": true
   },
   "outputs": [],
   "source": []
  },
  {
   "cell_type": "code",
   "execution_count": null,
   "metadata": {
    "collapsed": true
   },
   "outputs": [],
   "source": []
  },
  {
   "cell_type": "code",
   "execution_count": null,
   "metadata": {
    "collapsed": true
   },
   "outputs": [],
   "source": []
  },
  {
   "cell_type": "code",
   "execution_count": null,
   "metadata": {
    "collapsed": true
   },
   "outputs": [],
   "source": []
  },
  {
   "cell_type": "code",
   "execution_count": 380,
   "metadata": {},
   "outputs": [],
   "source": [
    "import pickle\n",
    "\n",
    "with open('/Users/eduardodeangelis/Desktop/galvanize/soaring-predictor/test.pkl', 'rb') as f:\n",
    "    model = pickle.load(f)"
   ]
  },
  {
   "cell_type": "code",
   "execution_count": 379,
   "metadata": {},
   "outputs": [
    {
     "data": {
      "text/plain": [
       "'/Users/eduardodeangelis/Desktop/galvanize/soaring-predictor/notebooks'"
      ]
     },
     "execution_count": 379,
     "metadata": {},
     "output_type": "execute_result"
    }
   ],
   "source": []
  },
  {
   "cell_type": "code",
   "execution_count": null,
   "metadata": {
    "collapsed": true
   },
   "outputs": [],
   "source": []
  }
 ],
 "metadata": {
  "kernelspec": {
   "display_name": "Python 3",
   "language": "python",
   "name": "python3"
  },
  "language_info": {
   "codemirror_mode": {
    "name": "ipython",
    "version": 3
   },
   "file_extension": ".py",
   "mimetype": "text/x-python",
   "name": "python",
   "nbconvert_exporter": "python",
   "pygments_lexer": "ipython3",
   "version": "3.6.3"
  }
 },
 "nbformat": 4,
 "nbformat_minor": 2
}

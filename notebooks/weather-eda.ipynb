{
 "cells": [
  {
   "cell_type": "code",
   "execution_count": 1,
   "metadata": {
    "collapsed": true
   },
   "outputs": [],
   "source": [
    "import requests\n",
    "import numpy as np\n",
    "import pandas as pd\n",
    "import psycopg2\n",
    "from datetime import datetime, date, time\n",
    "import string\n",
    "import time\n",
    "from dateutil import parser\n",
    "import re\n",
    "import pytz    \n",
    "import tzlocal \n",
    "import matplotlib.pyplot as plt\n",
    "import calendar\n",
    "import matplotlib\n",
    "\n",
    "pd.options.display.max_columns = 999\n",
    "%matplotlib inline"
   ]
  },
  {
   "cell_type": "markdown",
   "metadata": {},
   "source": [
    "# Weather data"
   ]
  },
  {
   "cell_type": "code",
   "execution_count": 64,
   "metadata": {},
   "outputs": [
    {
     "name": "stderr",
     "output_type": "stream",
     "text": [
      "/Users/eduardodeangelis/anaconda2/envs/python36/lib/python3.6/site-packages/IPython/core/interactiveshell.py:2698: DtypeWarning: Columns (7,8) have mixed types. Specify dtype option on import or set low_memory=False.\n",
      "  interactivity=interactivity, compiler=compiler, result=result)\n"
     ]
    }
   ],
   "source": [
    "# importig the raw file\n",
    "DF = pd.read_csv('data/RNT.txt')"
   ]
  },
  {
   "cell_type": "code",
   "execution_count": 65,
   "metadata": {},
   "outputs": [
    {
     "data": {
      "text/plain": [
       "Index(['station', 'valid', 'tmpf', ' dwpf', ' relh', ' drct', ' sknt', ' p01i',\n",
       "       ' alti', ' mslp', ' vsby', ' gust', ' skyc1', ' skyc2', ' skyc3',\n",
       "       ' skyc4', ' skyl1', ' skyl2', ' skyl3', ' skyl4', ' wxcodes', ' metar'],\n",
       "      dtype='object')"
      ]
     },
     "execution_count": 65,
     "metadata": {},
     "output_type": "execute_result"
    }
   ],
   "source": [
    "DF.columns"
   ]
  },
  {
   "cell_type": "code",
   "execution_count": 66,
   "metadata": {},
   "outputs": [
    {
     "data": {
      "text/plain": [
       "Index(['station', 'valid', 'tmpf', ' dwpf', ' relh', ' drct', ' sknt', ' p01i',\n",
       "       ' alti', ' mslp', ' vsby', ' gust', ' skyc1', ' skyl1', ' wxcodes',\n",
       "       ' metar'],\n",
       "      dtype='object')"
      ]
     },
     "execution_count": 66,
     "metadata": {},
     "output_type": "execute_result"
    }
   ],
   "source": [
    "#dropping unuseful columns\n",
    "DF = DF.drop(columns = [' skyc2', ' skyc3',' skyc4',' skyl2', ' skyl3',' skyl4'])\n",
    "DF.columns"
   ]
  },
  {
   "cell_type": "code",
   "execution_count": 79,
   "metadata": {},
   "outputs": [],
   "source": [
    "#Converting cloud coverage to numeric\n",
    "\n",
    "def convert_skyc(string):\n",
    "    conv_table ={'CLR':0,'SKC':0,'FEW': 0.25,'SCT':0.5,'BKN':0.75,'OVC':1,'M':'M','NSC':0,'VV ':1}\n",
    "    return conv_table[string]"
   ]
  },
  {
   "cell_type": "code",
   "execution_count": 80,
   "metadata": {},
   "outputs": [],
   "source": [
    "DF[' skyc1']=DF[' skyc1'].apply(convert_skyc)"
   ]
  },
  {
   "cell_type": "markdown",
   "metadata": {},
   "source": [
    "Interpretation of cloud coverage (' skyc1')\n",
    "SKC = Clear (manual report);\n",
    "CLR = Clear (automated report);\n",
    "FEW = Few (1/8 to 2/8 of sky covered);\n",
    "SCT = Scattered (3/8 to 4/8 of sky covered);\n",
    "BKN = Broken (5/8 to 7/8 of sky covered);\n",
    "OVC = Overcast (total sky coverage).\n"
   ]
  },
  {
   "cell_type": "code",
   "execution_count": 82,
   "metadata": {
    "collapsed": true
   },
   "outputs": [],
   "source": [
    "#converting strings to numbers\n",
    "# \"erros = 'coerce'\" pushes the errors, replacing them with Nan\n",
    "lst = ['tmpf', ' dwpf', ' relh', ' drct', ' sknt',' p01i',' alti', ' mslp', ' vsby', ' gust',' skyl1',' skyc1']\n",
    "\n",
    "for col in lst:\n",
    "    DF[col] = DF[col].apply(pd.to_numeric, errors='coerce')\n"
   ]
  },
  {
   "cell_type": "code",
   "execution_count": 83,
   "metadata": {
    "collapsed": true
   },
   "outputs": [],
   "source": [
    "#converting 'valid' to timestamp and reassiging it as index\n",
    "DF['valid'] = pd.to_datetime(DF['valid'])\n",
    "DF = DF.set_index('valid')"
   ]
  },
  {
   "cell_type": "code",
   "execution_count": 84,
   "metadata": {
    "collapsed": true
   },
   "outputs": [],
   "source": [
    "# filling missing values with interpolations\n",
    "for col in lst:\n",
    "    DF[col]= DF[col].interpolate(method='time', axis=0).ffill().bfill()"
   ]
  },
  {
   "cell_type": "markdown",
   "metadata": {},
   "source": [
    "## Creating a standardized weather DF (with average values for each 4h)"
   ]
  },
  {
   "cell_type": "code",
   "execution_count": 88,
   "metadata": {},
   "outputs": [],
   "source": [
    "#Dropping these 3 features that are not part of normal forecasts: Cloud base, gust, sea level pressure and visibility\n",
    "\n",
    "DF = DF.drop([' gust',' skyl1',' mslp',' vsby'],axis=1)"
   ]
  },
  {
   "cell_type": "code",
   "execution_count": 129,
   "metadata": {},
   "outputs": [
    {
     "data": {
      "text/html": [
       "<div>\n",
       "<style scoped>\n",
       "    .dataframe tbody tr th:only-of-type {\n",
       "        vertical-align: middle;\n",
       "    }\n",
       "\n",
       "    .dataframe tbody tr th {\n",
       "        vertical-align: top;\n",
       "    }\n",
       "\n",
       "    .dataframe thead th {\n",
       "        text-align: right;\n",
       "    }\n",
       "</style>\n",
       "<table border=\"1\" class=\"dataframe\">\n",
       "  <thead>\n",
       "    <tr style=\"text-align: right;\">\n",
       "      <th></th>\n",
       "      <th>tmpf</th>\n",
       "      <th>dwpf</th>\n",
       "      <th>relh</th>\n",
       "      <th>drct</th>\n",
       "      <th>sknt</th>\n",
       "      <th>p01i</th>\n",
       "      <th>alti</th>\n",
       "      <th>skyc1</th>\n",
       "    </tr>\n",
       "    <tr>\n",
       "      <th>valid</th>\n",
       "      <th></th>\n",
       "      <th></th>\n",
       "      <th></th>\n",
       "      <th></th>\n",
       "      <th></th>\n",
       "      <th></th>\n",
       "      <th></th>\n",
       "      <th></th>\n",
       "    </tr>\n",
       "  </thead>\n",
       "  <tbody>\n",
       "    <tr>\n",
       "      <th>2013-01-01 00:00:00</th>\n",
       "      <td>30.380</td>\n",
       "      <td>28.460</td>\n",
       "      <td>92.468333</td>\n",
       "      <td>28.333333</td>\n",
       "      <td>0.50</td>\n",
       "      <td>0.0</td>\n",
       "      <td>30.4800</td>\n",
       "      <td>0.333333</td>\n",
       "    </tr>\n",
       "    <tr>\n",
       "      <th>2013-01-01 04:00:00</th>\n",
       "      <td>28.535</td>\n",
       "      <td>26.015</td>\n",
       "      <td>90.165000</td>\n",
       "      <td>30.000000</td>\n",
       "      <td>0.75</td>\n",
       "      <td>0.0</td>\n",
       "      <td>30.4600</td>\n",
       "      <td>0.000000</td>\n",
       "    </tr>\n",
       "    <tr>\n",
       "      <th>2013-01-01 08:00:00</th>\n",
       "      <td>32.990</td>\n",
       "      <td>29.435</td>\n",
       "      <td>86.862500</td>\n",
       "      <td>42.500000</td>\n",
       "      <td>0.75</td>\n",
       "      <td>0.0</td>\n",
       "      <td>30.4900</td>\n",
       "      <td>0.000000</td>\n",
       "    </tr>\n",
       "    <tr>\n",
       "      <th>2013-01-01 12:00:00</th>\n",
       "      <td>41.270</td>\n",
       "      <td>30.965</td>\n",
       "      <td>66.607500</td>\n",
       "      <td>330.000000</td>\n",
       "      <td>6.00</td>\n",
       "      <td>0.0</td>\n",
       "      <td>30.4325</td>\n",
       "      <td>0.000000</td>\n",
       "    </tr>\n",
       "    <tr>\n",
       "      <th>2013-01-01 16:00:00</th>\n",
       "      <td>37.490</td>\n",
       "      <td>31.730</td>\n",
       "      <td>79.577500</td>\n",
       "      <td>252.500000</td>\n",
       "      <td>4.75</td>\n",
       "      <td>0.0</td>\n",
       "      <td>30.3900</td>\n",
       "      <td>0.000000</td>\n",
       "    </tr>\n",
       "  </tbody>\n",
       "</table>\n",
       "</div>"
      ],
      "text/plain": [
       "                       tmpf    dwpf       relh        drct   sknt   p01i  \\\n",
       "valid                                                                      \n",
       "2013-01-01 00:00:00  30.380  28.460  92.468333   28.333333   0.50    0.0   \n",
       "2013-01-01 04:00:00  28.535  26.015  90.165000   30.000000   0.75    0.0   \n",
       "2013-01-01 08:00:00  32.990  29.435  86.862500   42.500000   0.75    0.0   \n",
       "2013-01-01 12:00:00  41.270  30.965  66.607500  330.000000   6.00    0.0   \n",
       "2013-01-01 16:00:00  37.490  31.730  79.577500  252.500000   4.75    0.0   \n",
       "\n",
       "                        alti     skyc1  \n",
       "valid                                   \n",
       "2013-01-01 00:00:00  30.4800  0.333333  \n",
       "2013-01-01 04:00:00  30.4600  0.000000  \n",
       "2013-01-01 08:00:00  30.4900  0.000000  \n",
       "2013-01-01 12:00:00  30.4325  0.000000  \n",
       "2013-01-01 16:00:00  30.3900  0.000000  "
      ]
     },
     "execution_count": 129,
     "metadata": {},
     "output_type": "execute_result"
    }
   ],
   "source": [
    "lst = [' dwpf', ' relh', ' drct', ' sknt',' p01i',' alti', ' skyc1']\n",
    "BASE = pd.DataFrame(DF.tmpf.resample('4H').mean())\n",
    "\n",
    "for col in lst:\n",
    "    ADD = pd.DataFrame(DF[col].resample('4H').mean())\n",
    "    frames = [BASE,ADD]\n",
    "    RDF = pd.concat(frames,axis=1)\n",
    "    BASE = RDF\n",
    "\n",
    "RDF.head()"
   ]
  },
  {
   "cell_type": "code",
   "execution_count": 130,
   "metadata": {},
   "outputs": [],
   "source": [
    "# resetting the index to take the timestamp out\n",
    "RDF.reset_index(inplace=True)\n",
    "\n",
    "## splitting date and time\n",
    "\n",
    "def get_date(ts):\n",
    "    return ts.date()\n",
    "\n",
    "def get_hour(ts):\n",
    "    return ts.hour\n",
    "\n",
    "RDF['date']=RDF['valid'].apply(get_date)\n",
    "RDF['hour']=RDF['valid'].apply(get_hour)"
   ]
  },
  {
   "cell_type": "code",
   "execution_count": 131,
   "metadata": {},
   "outputs": [
    {
     "data": {
      "text/html": [
       "<div>\n",
       "<style scoped>\n",
       "    .dataframe tbody tr th:only-of-type {\n",
       "        vertical-align: middle;\n",
       "    }\n",
       "\n",
       "    .dataframe tbody tr th {\n",
       "        vertical-align: top;\n",
       "    }\n",
       "\n",
       "    .dataframe thead th {\n",
       "        text-align: right;\n",
       "    }\n",
       "</style>\n",
       "<table border=\"1\" class=\"dataframe\">\n",
       "  <thead>\n",
       "    <tr style=\"text-align: right;\">\n",
       "      <th></th>\n",
       "      <th>valid</th>\n",
       "      <th>tmpf</th>\n",
       "      <th>dwpf</th>\n",
       "      <th>relh</th>\n",
       "      <th>drct</th>\n",
       "      <th>sknt</th>\n",
       "      <th>p01i</th>\n",
       "      <th>alti</th>\n",
       "      <th>skyc1</th>\n",
       "      <th>date</th>\n",
       "      <th>hour</th>\n",
       "    </tr>\n",
       "  </thead>\n",
       "  <tbody>\n",
       "    <tr>\n",
       "      <th>0</th>\n",
       "      <td>2013-01-01 00:00:00</td>\n",
       "      <td>30.380</td>\n",
       "      <td>28.460</td>\n",
       "      <td>92.468333</td>\n",
       "      <td>28.333333</td>\n",
       "      <td>0.50</td>\n",
       "      <td>0.0</td>\n",
       "      <td>30.4800</td>\n",
       "      <td>0.333333</td>\n",
       "      <td>2013-01-01</td>\n",
       "      <td>0</td>\n",
       "    </tr>\n",
       "    <tr>\n",
       "      <th>1</th>\n",
       "      <td>2013-01-01 04:00:00</td>\n",
       "      <td>28.535</td>\n",
       "      <td>26.015</td>\n",
       "      <td>90.165000</td>\n",
       "      <td>30.000000</td>\n",
       "      <td>0.75</td>\n",
       "      <td>0.0</td>\n",
       "      <td>30.4600</td>\n",
       "      <td>0.000000</td>\n",
       "      <td>2013-01-01</td>\n",
       "      <td>4</td>\n",
       "    </tr>\n",
       "    <tr>\n",
       "      <th>2</th>\n",
       "      <td>2013-01-01 08:00:00</td>\n",
       "      <td>32.990</td>\n",
       "      <td>29.435</td>\n",
       "      <td>86.862500</td>\n",
       "      <td>42.500000</td>\n",
       "      <td>0.75</td>\n",
       "      <td>0.0</td>\n",
       "      <td>30.4900</td>\n",
       "      <td>0.000000</td>\n",
       "      <td>2013-01-01</td>\n",
       "      <td>8</td>\n",
       "    </tr>\n",
       "    <tr>\n",
       "      <th>3</th>\n",
       "      <td>2013-01-01 12:00:00</td>\n",
       "      <td>41.270</td>\n",
       "      <td>30.965</td>\n",
       "      <td>66.607500</td>\n",
       "      <td>330.000000</td>\n",
       "      <td>6.00</td>\n",
       "      <td>0.0</td>\n",
       "      <td>30.4325</td>\n",
       "      <td>0.000000</td>\n",
       "      <td>2013-01-01</td>\n",
       "      <td>12</td>\n",
       "    </tr>\n",
       "    <tr>\n",
       "      <th>4</th>\n",
       "      <td>2013-01-01 16:00:00</td>\n",
       "      <td>37.490</td>\n",
       "      <td>31.730</td>\n",
       "      <td>79.577500</td>\n",
       "      <td>252.500000</td>\n",
       "      <td>4.75</td>\n",
       "      <td>0.0</td>\n",
       "      <td>30.3900</td>\n",
       "      <td>0.000000</td>\n",
       "      <td>2013-01-01</td>\n",
       "      <td>16</td>\n",
       "    </tr>\n",
       "  </tbody>\n",
       "</table>\n",
       "</div>"
      ],
      "text/plain": [
       "                valid    tmpf    dwpf       relh        drct   sknt   p01i  \\\n",
       "0 2013-01-01 00:00:00  30.380  28.460  92.468333   28.333333   0.50    0.0   \n",
       "1 2013-01-01 04:00:00  28.535  26.015  90.165000   30.000000   0.75    0.0   \n",
       "2 2013-01-01 08:00:00  32.990  29.435  86.862500   42.500000   0.75    0.0   \n",
       "3 2013-01-01 12:00:00  41.270  30.965  66.607500  330.000000   6.00    0.0   \n",
       "4 2013-01-01 16:00:00  37.490  31.730  79.577500  252.500000   4.75    0.0   \n",
       "\n",
       "      alti     skyc1        date  hour  \n",
       "0  30.4800  0.333333  2013-01-01     0  \n",
       "1  30.4600  0.000000  2013-01-01     4  \n",
       "2  30.4900  0.000000  2013-01-01     8  \n",
       "3  30.4325  0.000000  2013-01-01    12  \n",
       "4  30.3900  0.000000  2013-01-01    16  "
      ]
     },
     "execution_count": 131,
     "metadata": {},
     "output_type": "execute_result"
    }
   ],
   "source": [
    "RDF.head()"
   ]
  },
  {
   "cell_type": "code",
   "execution_count": 133,
   "metadata": {},
   "outputs": [],
   "source": [
    "#Getting one row per day - different rows become columns\n",
    "\n",
    "RDF = RDF.pivot_table(index='date', \n",
    "                    columns='hour',\n",
    "                    values=['tmpf',' dwpf',' relh',' drct',' sknt',' p01i',' alti',' skyc1'])"
   ]
  },
  {
   "cell_type": "markdown",
   "metadata": {},
   "source": [
    "### Flattening the multindex DF"
   ]
  },
  {
   "cell_type": "code",
   "execution_count": 149,
   "metadata": {},
   "outputs": [],
   "source": [
    "RDF = pd.DataFrame(RDF.to_records())"
   ]
  },
  {
   "cell_type": "code",
   "execution_count": null,
   "metadata": {
    "collapsed": true
   },
   "outputs": [],
   "source": [
    "mi = RDF.columns\n",
    "mi = list(mi)\n",
    "mi = mi[1:] #removing 'date' to make it easier"
   ]
  },
  {
   "cell_type": "code",
   "execution_count": 223,
   "metadata": {},
   "outputs": [],
   "source": [
    "words = re.findall('(\\w{4,5})', str(mi))\n",
    "# hours = re.findall('\\d{1,2}',str(mi))\n",
    "hours = ['0','4','8','12','16','20'] * len(words)\n",
    "idx = [w + '_' + h for w,h in zip(words,hours)]\n",
    "idx = ['date']+idx"
   ]
  },
  {
   "cell_type": "code",
   "execution_count": null,
   "metadata": {},
   "outputs": [],
   "source": []
  },
  {
   "cell_type": "code",
   "execution_count": 225,
   "metadata": {},
   "outputs": [],
   "source": [
    "RDF.columns = idx"
   ]
  },
  {
   "cell_type": "code",
   "execution_count": 200,
   "metadata": {},
   "outputs": [],
   "source": [
    "for col in idx:\n",
    "    RDF[col]= RDF[col].interpolate(method='linear', axis=0).ffill().bfill()"
   ]
  },
  {
   "cell_type": "code",
   "execution_count": 209,
   "metadata": {},
   "outputs": [],
   "source": [
    "# returns day of the year\n",
    "\n",
    "def doy(dt_obj):\n",
    "    return int(dt_obj.strftime('%j'))"
   ]
  },
  {
   "cell_type": "code",
   "execution_count": 211,
   "metadata": {},
   "outputs": [],
   "source": [
    "# creates day of the year column\n",
    "RDF['doy']=RDF['date'].apply(doy)"
   ]
  },
  {
   "cell_type": "code",
   "execution_count": 240,
   "metadata": {},
   "outputs": [
    {
     "data": {
      "text/html": [
       "<div>\n",
       "<style scoped>\n",
       "    .dataframe tbody tr th:only-of-type {\n",
       "        vertical-align: middle;\n",
       "    }\n",
       "\n",
       "    .dataframe tbody tr th {\n",
       "        vertical-align: top;\n",
       "    }\n",
       "\n",
       "    .dataframe thead th {\n",
       "        text-align: right;\n",
       "    }\n",
       "</style>\n",
       "<table border=\"1\" class=\"dataframe\">\n",
       "  <thead>\n",
       "    <tr style=\"text-align: right;\">\n",
       "      <th></th>\n",
       "      <th>date</th>\n",
       "      <th>alti_0</th>\n",
       "      <th>alti_4</th>\n",
       "      <th>alti_8</th>\n",
       "      <th>alti_12</th>\n",
       "      <th>alti_16</th>\n",
       "      <th>alti_20</th>\n",
       "      <th>drct_0</th>\n",
       "      <th>drct_4</th>\n",
       "      <th>drct_8</th>\n",
       "      <th>drct_12</th>\n",
       "      <th>drct_16</th>\n",
       "      <th>drct_20</th>\n",
       "      <th>dwpf_0</th>\n",
       "      <th>dwpf_4</th>\n",
       "      <th>dwpf_8</th>\n",
       "      <th>dwpf_12</th>\n",
       "      <th>dwpf_16</th>\n",
       "      <th>dwpf_20</th>\n",
       "      <th>p01i_0</th>\n",
       "      <th>p01i_4</th>\n",
       "      <th>p01i_8</th>\n",
       "      <th>p01i_12</th>\n",
       "      <th>p01i_16</th>\n",
       "      <th>p01i_20</th>\n",
       "      <th>relh_0</th>\n",
       "      <th>relh_4</th>\n",
       "      <th>relh_8</th>\n",
       "      <th>relh_12</th>\n",
       "      <th>relh_16</th>\n",
       "      <th>relh_20</th>\n",
       "      <th>sknt_0</th>\n",
       "      <th>sknt_4</th>\n",
       "      <th>sknt_8</th>\n",
       "      <th>sknt_12</th>\n",
       "      <th>sknt_16</th>\n",
       "      <th>sknt_20</th>\n",
       "      <th>skyc1_0</th>\n",
       "      <th>skyc1_4</th>\n",
       "      <th>skyc1_8</th>\n",
       "      <th>skyc1_12</th>\n",
       "      <th>skyc1_16</th>\n",
       "      <th>skyc1_20</th>\n",
       "      <th>tmpf_0</th>\n",
       "      <th>tmpf_4</th>\n",
       "      <th>tmpf_8</th>\n",
       "      <th>tmpf_12</th>\n",
       "      <th>tmpf_16</th>\n",
       "      <th>tmpf_20</th>\n",
       "      <th>doy</th>\n",
       "    </tr>\n",
       "  </thead>\n",
       "  <tbody>\n",
       "    <tr>\n",
       "      <th>0</th>\n",
       "      <td>2013-01-01</td>\n",
       "      <td>30.480000</td>\n",
       "      <td>30.4600</td>\n",
       "      <td>30.490000</td>\n",
       "      <td>30.4325</td>\n",
       "      <td>30.3900</td>\n",
       "      <td>30.370000</td>\n",
       "      <td>28.333333</td>\n",
       "      <td>30.0</td>\n",
       "      <td>42.5</td>\n",
       "      <td>330.0</td>\n",
       "      <td>252.5</td>\n",
       "      <td>87.500000</td>\n",
       "      <td>28.460</td>\n",
       "      <td>26.015</td>\n",
       "      <td>29.435000</td>\n",
       "      <td>30.965</td>\n",
       "      <td>31.730</td>\n",
       "      <td>29.480</td>\n",
       "      <td>0.00</td>\n",
       "      <td>0.000</td>\n",
       "      <td>0.0</td>\n",
       "      <td>0.0</td>\n",
       "      <td>0.0000</td>\n",
       "      <td>0.000000</td>\n",
       "      <td>92.468333</td>\n",
       "      <td>90.1650</td>\n",
       "      <td>86.862500</td>\n",
       "      <td>66.6075</td>\n",
       "      <td>79.5775</td>\n",
       "      <td>92.162500</td>\n",
       "      <td>0.500000</td>\n",
       "      <td>0.75</td>\n",
       "      <td>0.750000</td>\n",
       "      <td>6.00</td>\n",
       "      <td>4.75</td>\n",
       "      <td>0.750000</td>\n",
       "      <td>0.333333</td>\n",
       "      <td>0.000</td>\n",
       "      <td>0.000000</td>\n",
       "      <td>0.0000</td>\n",
       "      <td>0.0000</td>\n",
       "      <td>0.000000</td>\n",
       "      <td>30.380</td>\n",
       "      <td>28.535</td>\n",
       "      <td>32.990000</td>\n",
       "      <td>41.270</td>\n",
       "      <td>37.490</td>\n",
       "      <td>31.505</td>\n",
       "      <td>1</td>\n",
       "    </tr>\n",
       "    <tr>\n",
       "      <th>1</th>\n",
       "      <td>2013-01-02</td>\n",
       "      <td>30.334000</td>\n",
       "      <td>30.2975</td>\n",
       "      <td>30.307500</td>\n",
       "      <td>30.2550</td>\n",
       "      <td>30.2400</td>\n",
       "      <td>30.205000</td>\n",
       "      <td>0.000000</td>\n",
       "      <td>0.0</td>\n",
       "      <td>72.5</td>\n",
       "      <td>150.0</td>\n",
       "      <td>87.5</td>\n",
       "      <td>55.000000</td>\n",
       "      <td>27.896</td>\n",
       "      <td>27.005</td>\n",
       "      <td>27.950000</td>\n",
       "      <td>22.505</td>\n",
       "      <td>20.210</td>\n",
       "      <td>20.255</td>\n",
       "      <td>0.00</td>\n",
       "      <td>0.000</td>\n",
       "      <td>0.0</td>\n",
       "      <td>0.0</td>\n",
       "      <td>0.0000</td>\n",
       "      <td>0.000000</td>\n",
       "      <td>93.774000</td>\n",
       "      <td>93.2300</td>\n",
       "      <td>78.742500</td>\n",
       "      <td>40.0875</td>\n",
       "      <td>45.6400</td>\n",
       "      <td>56.530000</td>\n",
       "      <td>0.000000</td>\n",
       "      <td>0.00</td>\n",
       "      <td>2.000000</td>\n",
       "      <td>5.25</td>\n",
       "      <td>3.25</td>\n",
       "      <td>2.750000</td>\n",
       "      <td>0.150000</td>\n",
       "      <td>0.000</td>\n",
       "      <td>0.000000</td>\n",
       "      <td>0.0000</td>\n",
       "      <td>0.0000</td>\n",
       "      <td>0.000000</td>\n",
       "      <td>29.480</td>\n",
       "      <td>28.715</td>\n",
       "      <td>34.520000</td>\n",
       "      <td>45.500</td>\n",
       "      <td>39.470</td>\n",
       "      <td>34.475</td>\n",
       "      <td>2</td>\n",
       "    </tr>\n",
       "    <tr>\n",
       "      <th>2</th>\n",
       "      <td>2013-01-03</td>\n",
       "      <td>30.195000</td>\n",
       "      <td>30.1475</td>\n",
       "      <td>30.140000</td>\n",
       "      <td>30.1150</td>\n",
       "      <td>30.1250</td>\n",
       "      <td>30.152500</td>\n",
       "      <td>70.000000</td>\n",
       "      <td>35.0</td>\n",
       "      <td>120.0</td>\n",
       "      <td>145.0</td>\n",
       "      <td>92.5</td>\n",
       "      <td>30.000000</td>\n",
       "      <td>21.515</td>\n",
       "      <td>24.305</td>\n",
       "      <td>20.525000</td>\n",
       "      <td>19.490</td>\n",
       "      <td>25.205</td>\n",
       "      <td>33.530</td>\n",
       "      <td>0.00</td>\n",
       "      <td>0.000</td>\n",
       "      <td>0.0</td>\n",
       "      <td>0.0</td>\n",
       "      <td>0.0125</td>\n",
       "      <td>0.015000</td>\n",
       "      <td>65.962500</td>\n",
       "      <td>88.6125</td>\n",
       "      <td>47.902500</td>\n",
       "      <td>36.1925</td>\n",
       "      <td>58.6150</td>\n",
       "      <td>86.257500</td>\n",
       "      <td>2.000000</td>\n",
       "      <td>1.00</td>\n",
       "      <td>4.000000</td>\n",
       "      <td>7.00</td>\n",
       "      <td>4.75</td>\n",
       "      <td>1.000000</td>\n",
       "      <td>0.000000</td>\n",
       "      <td>0.000</td>\n",
       "      <td>0.000000</td>\n",
       "      <td>0.0625</td>\n",
       "      <td>0.7500</td>\n",
       "      <td>1.000000</td>\n",
       "      <td>32.225</td>\n",
       "      <td>27.230</td>\n",
       "      <td>38.750000</td>\n",
       "      <td>44.735</td>\n",
       "      <td>39.515</td>\n",
       "      <td>37.265</td>\n",
       "      <td>3</td>\n",
       "    </tr>\n",
       "    <tr>\n",
       "      <th>3</th>\n",
       "      <td>2013-01-04</td>\n",
       "      <td>30.208333</td>\n",
       "      <td>30.2580</td>\n",
       "      <td>30.312857</td>\n",
       "      <td>30.2700</td>\n",
       "      <td>30.2125</td>\n",
       "      <td>30.180000</td>\n",
       "      <td>93.333333</td>\n",
       "      <td>138.0</td>\n",
       "      <td>110.0</td>\n",
       "      <td>62.0</td>\n",
       "      <td>0.0</td>\n",
       "      <td>77.500000</td>\n",
       "      <td>35.690</td>\n",
       "      <td>37.634</td>\n",
       "      <td>41.154286</td>\n",
       "      <td>43.736</td>\n",
       "      <td>41.270</td>\n",
       "      <td>38.480</td>\n",
       "      <td>0.01</td>\n",
       "      <td>0.003</td>\n",
       "      <td>0.0</td>\n",
       "      <td>0.0</td>\n",
       "      <td>0.0000</td>\n",
       "      <td>0.000000</td>\n",
       "      <td>93.811667</td>\n",
       "      <td>93.3340</td>\n",
       "      <td>91.638571</td>\n",
       "      <td>83.8080</td>\n",
       "      <td>92.7875</td>\n",
       "      <td>88.002500</td>\n",
       "      <td>2.833333</td>\n",
       "      <td>4.80</td>\n",
       "      <td>3.571429</td>\n",
       "      <td>2.40</td>\n",
       "      <td>0.00</td>\n",
       "      <td>0.750000</td>\n",
       "      <td>0.833333</td>\n",
       "      <td>0.725</td>\n",
       "      <td>0.571429</td>\n",
       "      <td>0.5500</td>\n",
       "      <td>0.1875</td>\n",
       "      <td>0.875000</td>\n",
       "      <td>37.310</td>\n",
       "      <td>39.398</td>\n",
       "      <td>43.442857</td>\n",
       "      <td>48.416</td>\n",
       "      <td>43.250</td>\n",
       "      <td>41.810</td>\n",
       "      <td>4</td>\n",
       "    </tr>\n",
       "    <tr>\n",
       "      <th>4</th>\n",
       "      <td>2013-01-05</td>\n",
       "      <td>30.167500</td>\n",
       "      <td>30.1700</td>\n",
       "      <td>30.192500</td>\n",
       "      <td>30.1450</td>\n",
       "      <td>30.1250</td>\n",
       "      <td>30.148889</td>\n",
       "      <td>87.500000</td>\n",
       "      <td>157.5</td>\n",
       "      <td>92.5</td>\n",
       "      <td>150.0</td>\n",
       "      <td>142.5</td>\n",
       "      <td>72.222222</td>\n",
       "      <td>38.480</td>\n",
       "      <td>34.970</td>\n",
       "      <td>33.215000</td>\n",
       "      <td>34.745</td>\n",
       "      <td>32.495</td>\n",
       "      <td>37.860</td>\n",
       "      <td>0.00</td>\n",
       "      <td>0.000</td>\n",
       "      <td>0.0</td>\n",
       "      <td>0.0</td>\n",
       "      <td>0.0000</td>\n",
       "      <td>0.017778</td>\n",
       "      <td>91.625000</td>\n",
       "      <td>76.0925</td>\n",
       "      <td>65.592500</td>\n",
       "      <td>69.7775</td>\n",
       "      <td>66.1850</td>\n",
       "      <td>91.553333</td>\n",
       "      <td>2.750000</td>\n",
       "      <td>3.75</td>\n",
       "      <td>3.500000</td>\n",
       "      <td>5.25</td>\n",
       "      <td>4.00</td>\n",
       "      <td>2.666667</td>\n",
       "      <td>0.875000</td>\n",
       "      <td>0.875</td>\n",
       "      <td>0.937500</td>\n",
       "      <td>0.7500</td>\n",
       "      <td>0.5000</td>\n",
       "      <td>0.666667</td>\n",
       "      <td>40.730</td>\n",
       "      <td>42.260</td>\n",
       "      <td>44.060000</td>\n",
       "      <td>44.015</td>\n",
       "      <td>43.025</td>\n",
       "      <td>40.200</td>\n",
       "      <td>5</td>\n",
       "    </tr>\n",
       "  </tbody>\n",
       "</table>\n",
       "</div>"
      ],
      "text/plain": [
       "         date     alti_0   alti_4     alti_8  alti_12  alti_16    alti_20  \\\n",
       "0  2013-01-01  30.480000  30.4600  30.490000  30.4325  30.3900  30.370000   \n",
       "1  2013-01-02  30.334000  30.2975  30.307500  30.2550  30.2400  30.205000   \n",
       "2  2013-01-03  30.195000  30.1475  30.140000  30.1150  30.1250  30.152500   \n",
       "3  2013-01-04  30.208333  30.2580  30.312857  30.2700  30.2125  30.180000   \n",
       "4  2013-01-05  30.167500  30.1700  30.192500  30.1450  30.1250  30.148889   \n",
       "\n",
       "      drct_0  drct_4  drct_8  drct_12  drct_16    drct_20  dwpf_0  dwpf_4  \\\n",
       "0  28.333333    30.0    42.5    330.0    252.5  87.500000  28.460  26.015   \n",
       "1   0.000000     0.0    72.5    150.0     87.5  55.000000  27.896  27.005   \n",
       "2  70.000000    35.0   120.0    145.0     92.5  30.000000  21.515  24.305   \n",
       "3  93.333333   138.0   110.0     62.0      0.0  77.500000  35.690  37.634   \n",
       "4  87.500000   157.5    92.5    150.0    142.5  72.222222  38.480  34.970   \n",
       "\n",
       "      dwpf_8  dwpf_12  dwpf_16  dwpf_20  p01i_0  p01i_4  p01i_8  p01i_12  \\\n",
       "0  29.435000   30.965   31.730   29.480    0.00   0.000     0.0      0.0   \n",
       "1  27.950000   22.505   20.210   20.255    0.00   0.000     0.0      0.0   \n",
       "2  20.525000   19.490   25.205   33.530    0.00   0.000     0.0      0.0   \n",
       "3  41.154286   43.736   41.270   38.480    0.01   0.003     0.0      0.0   \n",
       "4  33.215000   34.745   32.495   37.860    0.00   0.000     0.0      0.0   \n",
       "\n",
       "   p01i_16   p01i_20     relh_0   relh_4     relh_8  relh_12  relh_16  \\\n",
       "0   0.0000  0.000000  92.468333  90.1650  86.862500  66.6075  79.5775   \n",
       "1   0.0000  0.000000  93.774000  93.2300  78.742500  40.0875  45.6400   \n",
       "2   0.0125  0.015000  65.962500  88.6125  47.902500  36.1925  58.6150   \n",
       "3   0.0000  0.000000  93.811667  93.3340  91.638571  83.8080  92.7875   \n",
       "4   0.0000  0.017778  91.625000  76.0925  65.592500  69.7775  66.1850   \n",
       "\n",
       "     relh_20    sknt_0  sknt_4    sknt_8  sknt_12  sknt_16   sknt_20  \\\n",
       "0  92.162500  0.500000    0.75  0.750000     6.00     4.75  0.750000   \n",
       "1  56.530000  0.000000    0.00  2.000000     5.25     3.25  2.750000   \n",
       "2  86.257500  2.000000    1.00  4.000000     7.00     4.75  1.000000   \n",
       "3  88.002500  2.833333    4.80  3.571429     2.40     0.00  0.750000   \n",
       "4  91.553333  2.750000    3.75  3.500000     5.25     4.00  2.666667   \n",
       "\n",
       "    skyc1_0  skyc1_4   skyc1_8  skyc1_12  skyc1_16  skyc1_20  tmpf_0  tmpf_4  \\\n",
       "0  0.333333    0.000  0.000000    0.0000    0.0000  0.000000  30.380  28.535   \n",
       "1  0.150000    0.000  0.000000    0.0000    0.0000  0.000000  29.480  28.715   \n",
       "2  0.000000    0.000  0.000000    0.0625    0.7500  1.000000  32.225  27.230   \n",
       "3  0.833333    0.725  0.571429    0.5500    0.1875  0.875000  37.310  39.398   \n",
       "4  0.875000    0.875  0.937500    0.7500    0.5000  0.666667  40.730  42.260   \n",
       "\n",
       "      tmpf_8  tmpf_12  tmpf_16  tmpf_20  doy  \n",
       "0  32.990000   41.270   37.490   31.505    1  \n",
       "1  34.520000   45.500   39.470   34.475    2  \n",
       "2  38.750000   44.735   39.515   37.265    3  \n",
       "3  43.442857   48.416   43.250   41.810    4  \n",
       "4  44.060000   44.015   43.025   40.200    5  "
      ]
     },
     "execution_count": 240,
     "metadata": {},
     "output_type": "execute_result"
    }
   ],
   "source": [
    "RDF.head()"
   ]
  },
  {
   "cell_type": "code",
   "execution_count": null,
   "metadata": {},
   "outputs": [],
   "source": []
  },
  {
   "cell_type": "code",
   "execution_count": null,
   "metadata": {},
   "outputs": [],
   "source": []
  },
  {
   "cell_type": "code",
   "execution_count": 230,
   "metadata": {},
   "outputs": [
    {
     "data": {
      "text/plain": [
       "[Text(0,0,'Jan'), Text(0,0,'Apr'), Text(0,0,'Jul'), Text(0,0,'Oct')]"
      ]
     },
     "execution_count": 230,
     "metadata": {},
     "output_type": "execute_result"
    },
    {
     "data": {
      "image/png": "[encoded data removed]",
      "text/plain": [
       "<matplotlib.figure.Figure at 0x110137d30>"
      ]
     },
     "metadata": {},
     "output_type": "display_data"
    }
   ],
   "source": [
    "fig,ax = plt.subplots(figsize = (18,8))\n",
    "ax.scatter(RDF['doy'],RDF['tmpf_12'], alpha = 0.5)\n",
    "ax.set_title('Temperature [in F]',fontsize=20)\n",
    "ax.set_ylabel('F', fontsize=16)\n",
    "ax.set_xticks([0,90,180,270]) # choose which x locations to have ticks\n",
    "ax.set_xticklabels(['Jan','Apr',\"Jul\",'Oct'], fontsize=14)"
   ]
  },
  {
   "cell_type": "code",
   "execution_count": 231,
   "metadata": {
    "collapsed": true
   },
   "outputs": [],
   "source": [
    "#Sweet way to push DF to Postgres DB\n",
    "\n",
    "\n",
    "import io\n",
    "\n",
    "from sqlalchemy import create_engine\n",
    "\n",
    "# fail, append or replace\n",
    "\n",
    "def write_to_table(df, db_engine, table_name, if_exists='fail'):\n",
    "    string_data_io = io.StringIO()\n",
    "    df.to_csv(string_data_io, sep='|', index=False)\n",
    "    pd_sql_engine = pd.io.sql.pandasSQL_builder(db_engine)\n",
    "    table = pd.io.sql.SQLTable(table_name, pd_sql_engine, frame=df,\n",
    "                               index=False, if_exists=if_exists)\n",
    "    table.create()\n",
    "    string_data_io.seek(0)\n",
    "    string_data_io.readline()  # remove header\n",
    "    with db_engine.connect() as connection:\n",
    "        with connection.connection.cursor() as cursor:\n",
    "            copy_cmd = \"COPY %s FROM STDIN HEADER DELIMITER '|' CSV\" % table_name\n",
    "            cursor.copy_expert(copy_cmd, string_data_io)\n",
    "        connection.connection.commit()"
   ]
  },
  {
   "cell_type": "code",
   "execution_count": 238,
   "metadata": {
    "collapsed": true
   },
   "outputs": [],
   "source": [
    "address = 'postgresql://@localhost:5432/soaring_predictor'\n",
    "engine = create_engine(address)"
   ]
  },
  {
   "cell_type": "code",
   "execution_count": 239,
   "metadata": {},
   "outputs": [],
   "source": [
    "write_to_table(RDF, engine, 'weather')"
   ]
  },
  {
   "cell_type": "code",
   "execution_count": null,
   "metadata": {
    "collapsed": true
   },
   "outputs": [],
   "source": []
  },
  {
   "cell_type": "code",
   "execution_count": null,
   "metadata": {
    "collapsed": true
   },
   "outputs": [],
   "source": []
  },
  {
   "cell_type": "code",
   "execution_count": null,
   "metadata": {
    "collapsed": true
   },
   "outputs": [],
   "source": []
  },
  {
   "cell_type": "code",
   "execution_count": null,
   "metadata": {
    "collapsed": true
   },
   "outputs": [],
   "source": []
  },
  {
   "cell_type": "code",
   "execution_count": null,
   "metadata": {
    "collapsed": true
   },
   "outputs": [],
   "source": []
  },
  {
   "cell_type": "code",
   "execution_count": null,
   "metadata": {
    "collapsed": true
   },
   "outputs": [],
   "source": []
  },
  {
   "cell_type": "code",
   "execution_count": null,
   "metadata": {
    "collapsed": true
   },
   "outputs": [],
   "source": []
  },
  {
   "cell_type": "code",
   "execution_count": null,
   "metadata": {
    "collapsed": true
   },
   "outputs": [],
   "source": []
  },
  {
   "cell_type": "code",
   "execution_count": null,
   "metadata": {
    "collapsed": true
   },
   "outputs": [],
   "source": []
  },
  {
   "cell_type": "code",
   "execution_count": null,
   "metadata": {
    "collapsed": true
   },
   "outputs": [],
   "source": []
  },
  {
   "cell_type": "code",
   "execution_count": null,
   "metadata": {
    "collapsed": true
   },
   "outputs": [],
   "source": []
  },
  {
   "cell_type": "code",
   "execution_count": null,
   "metadata": {
    "collapsed": true
   },
   "outputs": [],
   "source": []
  },
  {
   "cell_type": "code",
   "execution_count": null,
   "metadata": {
    "collapsed": true
   },
   "outputs": [],
   "source": []
  },
  {
   "cell_type": "code",
   "execution_count": null,
   "metadata": {
    "collapsed": true
   },
   "outputs": [],
   "source": []
  }
 ],
 "metadata": {
  "kernelspec": {
   "display_name": "Python 3",
   "language": "python",
   "name": "python3"
  },
  "language_info": {
   "codemirror_mode": {
    "name": "ipython",
    "version": 3
   },
   "file_extension": ".py",
   "mimetype": "text/x-python",
   "name": "python",
   "nbconvert_exporter": "python",
   "pygments_lexer": "ipython3",
   "version": "3.6.3"
  }
 },
 "nbformat": 4,
 "nbformat_minor": 2
}
